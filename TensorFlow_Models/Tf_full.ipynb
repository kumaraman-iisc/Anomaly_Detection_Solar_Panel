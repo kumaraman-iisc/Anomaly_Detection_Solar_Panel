{
  "cells": [
    {
      "cell_type": "code",
      "execution_count": null,
      "metadata": {
        "id": "2d3fc00pTimd",
        "colab": {
          "base_uri": "https://localhost:8080/"
        },
        "outputId": "f5b890c5-0a3c-49e1-a4ea-c182534dcceb"
      },
      "outputs": [
        {
          "output_type": "stream",
          "name": "stdout",
          "text": [
            "Mounted at /content/drive\n"
          ]
        }
      ],
      "source": [
        "from google.colab import drive\n",
        "drive.mount('/content/drive')"
      ]
    },
    {
      "cell_type": "code",
      "source": [
        "!pip install tensorflow"
      ],
      "metadata": {
        "colab": {
          "base_uri": "https://localhost:8080/"
        },
        "id": "phYLPrf5L9Y5",
        "outputId": "c9ba28b2-ac7b-4d23-b536-95521030187c"
      },
      "execution_count": null,
      "outputs": [
        {
          "output_type": "stream",
          "name": "stdout",
          "text": [
            "Collecting tensorflow\n",
            "  Downloading tensorflow-2.19.0-cp311-cp311-manylinux_2_17_x86_64.manylinux2014_x86_64.whl.metadata (4.1 kB)\n",
            "Requirement already satisfied: absl-py>=1.0.0 in /usr/local/lib/python3.11/dist-packages (from tensorflow) (1.4.0)\n",
            "Collecting astunparse>=1.6.0 (from tensorflow)\n",
            "  Downloading astunparse-1.6.3-py2.py3-none-any.whl.metadata (4.4 kB)\n",
            "Collecting flatbuffers>=24.3.25 (from tensorflow)\n",
            "  Downloading flatbuffers-25.2.10-py2.py3-none-any.whl.metadata (875 bytes)\n",
            "Requirement already satisfied: gast!=0.5.0,!=0.5.1,!=0.5.2,>=0.2.1 in /usr/local/lib/python3.11/dist-packages (from tensorflow) (0.6.0)\n",
            "Collecting google-pasta>=0.1.1 (from tensorflow)\n",
            "  Downloading google_pasta-0.2.0-py3-none-any.whl.metadata (814 bytes)\n",
            "Collecting libclang>=13.0.0 (from tensorflow)\n",
            "  Downloading libclang-18.1.1-py2.py3-none-manylinux2010_x86_64.whl.metadata (5.2 kB)\n",
            "Requirement already satisfied: opt-einsum>=2.3.2 in /usr/local/lib/python3.11/dist-packages (from tensorflow) (3.4.0)\n",
            "Requirement already satisfied: packaging in /usr/local/lib/python3.11/dist-packages (from tensorflow) (25.0)\n",
            "Requirement already satisfied: protobuf!=4.21.0,!=4.21.1,!=4.21.2,!=4.21.3,!=4.21.4,!=4.21.5,<6.0.0dev,>=3.20.3 in /usr/local/lib/python3.11/dist-packages (from tensorflow) (5.29.4)\n",
            "Requirement already satisfied: requests<3,>=2.21.0 in /usr/local/lib/python3.11/dist-packages (from tensorflow) (2.32.3)\n",
            "Requirement already satisfied: setuptools in /usr/local/lib/python3.11/dist-packages (from tensorflow) (75.2.0)\n",
            "Requirement already satisfied: six>=1.12.0 in /usr/local/lib/python3.11/dist-packages (from tensorflow) (1.17.0)\n",
            "Requirement already satisfied: termcolor>=1.1.0 in /usr/local/lib/python3.11/dist-packages (from tensorflow) (3.0.1)\n",
            "Requirement already satisfied: typing-extensions>=3.6.6 in /usr/local/lib/python3.11/dist-packages (from tensorflow) (4.13.2)\n",
            "Requirement already satisfied: wrapt>=1.11.0 in /usr/local/lib/python3.11/dist-packages (from tensorflow) (1.17.2)\n",
            "Requirement already satisfied: grpcio<2.0,>=1.24.3 in /usr/local/lib/python3.11/dist-packages (from tensorflow) (1.71.0)\n",
            "Collecting tensorboard~=2.19.0 (from tensorflow)\n",
            "  Downloading tensorboard-2.19.0-py3-none-any.whl.metadata (1.8 kB)\n",
            "Requirement already satisfied: keras>=3.5.0 in /usr/local/lib/python3.11/dist-packages (from tensorflow) (3.8.0)\n",
            "Requirement already satisfied: numpy<2.2.0,>=1.26.0 in /usr/local/lib/python3.11/dist-packages (from tensorflow) (2.0.2)\n",
            "Requirement already satisfied: h5py>=3.11.0 in /usr/local/lib/python3.11/dist-packages (from tensorflow) (3.13.0)\n",
            "Requirement already satisfied: ml-dtypes<1.0.0,>=0.5.1 in /usr/local/lib/python3.11/dist-packages (from tensorflow) (0.5.1)\n",
            "Collecting tensorflow-io-gcs-filesystem>=0.23.1 (from tensorflow)\n",
            "  Downloading tensorflow_io_gcs_filesystem-0.37.1-cp311-cp311-manylinux_2_17_x86_64.manylinux2014_x86_64.whl.metadata (14 kB)\n",
            "Collecting wheel<1.0,>=0.23.0 (from astunparse>=1.6.0->tensorflow)\n",
            "  Downloading wheel-0.45.1-py3-none-any.whl.metadata (2.3 kB)\n",
            "Requirement already satisfied: rich in /usr/local/lib/python3.11/dist-packages (from keras>=3.5.0->tensorflow) (14.0.0)\n",
            "Requirement already satisfied: namex in /usr/local/lib/python3.11/dist-packages (from keras>=3.5.0->tensorflow) (0.0.9)\n",
            "Requirement already satisfied: optree in /usr/local/lib/python3.11/dist-packages (from keras>=3.5.0->tensorflow) (0.15.0)\n",
            "Requirement already satisfied: charset-normalizer<4,>=2 in /usr/local/lib/python3.11/dist-packages (from requests<3,>=2.21.0->tensorflow) (3.4.1)\n",
            "Requirement already satisfied: idna<4,>=2.5 in /usr/local/lib/python3.11/dist-packages (from requests<3,>=2.21.0->tensorflow) (3.10)\n",
            "Requirement already satisfied: urllib3<3,>=1.21.1 in /usr/local/lib/python3.11/dist-packages (from requests<3,>=2.21.0->tensorflow) (2.4.0)\n",
            "Requirement already satisfied: certifi>=2017.4.17 in /usr/local/lib/python3.11/dist-packages (from requests<3,>=2.21.0->tensorflow) (2025.4.26)\n",
            "Requirement already satisfied: markdown>=2.6.8 in /usr/lib/python3/dist-packages (from tensorboard~=2.19.0->tensorflow) (3.3.6)\n",
            "Collecting tensorboard-data-server<0.8.0,>=0.7.0 (from tensorboard~=2.19.0->tensorflow)\n",
            "  Downloading tensorboard_data_server-0.7.2-py3-none-manylinux_2_31_x86_64.whl.metadata (1.1 kB)\n",
            "Collecting werkzeug>=1.0.1 (from tensorboard~=2.19.0->tensorflow)\n",
            "  Downloading werkzeug-3.1.3-py3-none-any.whl.metadata (3.7 kB)\n",
            "Requirement already satisfied: MarkupSafe>=2.1.1 in /usr/local/lib/python3.11/dist-packages (from werkzeug>=1.0.1->tensorboard~=2.19.0->tensorflow) (3.0.2)\n",
            "Requirement already satisfied: markdown-it-py>=2.2.0 in /usr/local/lib/python3.11/dist-packages (from rich->keras>=3.5.0->tensorflow) (3.0.0)\n",
            "Requirement already satisfied: pygments<3.0.0,>=2.13.0 in /usr/local/lib/python3.11/dist-packages (from rich->keras>=3.5.0->tensorflow) (2.19.1)\n",
            "Requirement already satisfied: mdurl~=0.1 in /usr/local/lib/python3.11/dist-packages (from markdown-it-py>=2.2.0->rich->keras>=3.5.0->tensorflow) (0.1.2)\n",
            "Downloading tensorflow-2.19.0-cp311-cp311-manylinux_2_17_x86_64.manylinux2014_x86_64.whl (644.9 MB)\n",
            "\u001b[2K   \u001b[90m━━━━━━━━━━━━━━━━━━━━━━━━━━━━━━━━━━━━━━━\u001b[0m \u001b[32m644.9/644.9 MB\u001b[0m \u001b[31m603.0 kB/s\u001b[0m eta \u001b[36m0:00:00\u001b[0m\n",
            "\u001b[?25hDownloading astunparse-1.6.3-py2.py3-none-any.whl (12 kB)\n",
            "Downloading flatbuffers-25.2.10-py2.py3-none-any.whl (30 kB)\n",
            "Downloading google_pasta-0.2.0-py3-none-any.whl (57 kB)\n",
            "\u001b[2K   \u001b[90m━━━━━━━━━━━━━━━━━━━━━━━━━━━━━━━━━━━━━━━━\u001b[0m \u001b[32m57.5/57.5 kB\u001b[0m \u001b[31m4.2 MB/s\u001b[0m eta \u001b[36m0:00:00\u001b[0m\n",
            "\u001b[?25hDownloading libclang-18.1.1-py2.py3-none-manylinux2010_x86_64.whl (24.5 MB)\n",
            "\u001b[2K   \u001b[90m━━━━━━━━━━━━━━━━━━━━━━━━━━━━━━━━━━━━━━━━\u001b[0m \u001b[32m24.5/24.5 MB\u001b[0m \u001b[31m81.5 MB/s\u001b[0m eta \u001b[36m0:00:00\u001b[0m\n",
            "\u001b[?25hDownloading tensorboard-2.19.0-py3-none-any.whl (5.5 MB)\n",
            "\u001b[2K   \u001b[90m━━━━━━━━━━━━━━━━━━━━━━━━━━━━━━━━━━━━━━━━\u001b[0m \u001b[32m5.5/5.5 MB\u001b[0m \u001b[31m118.1 MB/s\u001b[0m eta \u001b[36m0:00:00\u001b[0m\n",
            "\u001b[?25hDownloading tensorflow_io_gcs_filesystem-0.37.1-cp311-cp311-manylinux_2_17_x86_64.manylinux2014_x86_64.whl (5.1 MB)\n",
            "\u001b[2K   \u001b[90m━━━━━━━━━━━━━━━━━━━━━━━━━━━━━━━━━━━━━━━━\u001b[0m \u001b[32m5.1/5.1 MB\u001b[0m \u001b[31m108.5 MB/s\u001b[0m eta \u001b[36m0:00:00\u001b[0m\n",
            "\u001b[?25hDownloading tensorboard_data_server-0.7.2-py3-none-manylinux_2_31_x86_64.whl (6.6 MB)\n",
            "\u001b[2K   \u001b[90m━━━━━━━━━━━━━━━━━━━━━━━━━━━━━━━━━━━━━━━━\u001b[0m \u001b[32m6.6/6.6 MB\u001b[0m \u001b[31m121.7 MB/s\u001b[0m eta \u001b[36m0:00:00\u001b[0m\n",
            "\u001b[?25hDownloading werkzeug-3.1.3-py3-none-any.whl (224 kB)\n",
            "\u001b[2K   \u001b[90m━━━━━━━━━━━━━━━━━━━━━━━━━━━━━━━━━━━━━━━━\u001b[0m \u001b[32m224.5/224.5 kB\u001b[0m \u001b[31m17.6 MB/s\u001b[0m eta \u001b[36m0:00:00\u001b[0m\n",
            "\u001b[?25hDownloading wheel-0.45.1-py3-none-any.whl (72 kB)\n",
            "\u001b[2K   \u001b[90m━━━━━━━━━━━━━━━━━━━━━━━━━━━━━━━━━━━━━━━━\u001b[0m \u001b[32m72.5/72.5 kB\u001b[0m \u001b[31m5.6 MB/s\u001b[0m eta \u001b[36m0:00:00\u001b[0m\n",
            "\u001b[?25hInstalling collected packages: libclang, flatbuffers, wheel, werkzeug, tensorflow-io-gcs-filesystem, tensorboard-data-server, google-pasta, tensorboard, astunparse, tensorflow\n",
            "Successfully installed astunparse-1.6.3 flatbuffers-25.2.10 google-pasta-0.2.0 libclang-18.1.1 tensorboard-2.19.0 tensorboard-data-server-0.7.2 tensorflow-2.19.0 tensorflow-io-gcs-filesystem-0.37.1 werkzeug-3.1.3 wheel-0.45.1\n"
          ]
        }
      ]
    },
    {
      "cell_type": "code",
      "execution_count": null,
      "metadata": {
        "id": "Ly-BzGzQVxNF"
      },
      "outputs": [],
      "source": [
        "import tensorflow as tf\n",
        "from tensorflow.keras.preprocessing.image import ImageDataGenerator\n",
        "from tensorflow.keras.applications.mobilenet_v2 import MobileNetV2, preprocess_input\n",
        "from tensorflow.keras import layers, models, regularizers\n",
        "from tensorflow.keras.callbacks import EarlyStopping, ReduceLROnPlateau"
      ]
    },
    {
      "cell_type": "code",
      "execution_count": null,
      "metadata": {
        "id": "VnxMaQV9V7OA"
      },
      "outputs": [],
      "source": [
        "IMG_SIZE = (128, 128)\n",
        "NUM_CLASSES = 5\n",
        "BATCH_SIZE = 32\n",
        "DATA_DIR = \"/content/drive/MyDrive/EDGE AI/df\""
      ]
    },
    {
      "cell_type": "code",
      "execution_count": null,
      "metadata": {
        "id": "T5FtB3KTWnek"
      },
      "outputs": [],
      "source": [
        "train_datagen = ImageDataGenerator(\n",
        "    preprocessing_function=preprocess_input,\n",
        "    rescale = 1/.255,\n",
        "    rotation_range=20,\n",
        "    zoom_range=0.15,\n",
        "    width_shift_range=0.2,\n",
        "    height_shift_range=0.2,\n",
        "    shear_range=0.15,\n",
        "    horizontal_flip=True,\n",
        "    fill_mode='nearest',\n",
        "    validation_split=0.2\n",
        ")"
      ]
    },
    {
      "cell_type": "code",
      "execution_count": null,
      "metadata": {
        "colab": {
          "base_uri": "https://localhost:8080/"
        },
        "id": "4cJaXG1geRqe",
        "outputId": "3234b36a-1a4e-4013-8f8a-a5a7b5a63235"
      },
      "outputs": [
        {
          "output_type": "stream",
          "name": "stdout",
          "text": [
            "Found 1514 images belonging to 5 classes.\n"
          ]
        }
      ],
      "source": [
        "train_generator = train_datagen.flow_from_directory(\n",
        "    DATA_DIR,\n",
        "    target_size=IMG_SIZE,\n",
        "    batch_size=BATCH_SIZE,\n",
        "    class_mode='sparse',\n",
        "    subset='training'\n",
        ")"
      ]
    },
    {
      "cell_type": "code",
      "execution_count": null,
      "metadata": {
        "colab": {
          "base_uri": "https://localhost:8080/"
        },
        "id": "7XjNBT_DeUce",
        "outputId": "3c274ebd-9505-4677-f137-25be4ea62943"
      },
      "outputs": [
        {
          "output_type": "stream",
          "name": "stdout",
          "text": [
            "Found 377 images belonging to 5 classes.\n"
          ]
        }
      ],
      "source": [
        "val_generator = train_datagen.flow_from_directory(\n",
        "    DATA_DIR,\n",
        "    target_size=IMG_SIZE,\n",
        "    batch_size=BATCH_SIZE,\n",
        "    class_mode='sparse',\n",
        "    subset='validation'\n",
        ")"
      ]
    },
    {
      "cell_type": "code",
      "execution_count": null,
      "metadata": {
        "colab": {
          "base_uri": "https://localhost:8080/"
        },
        "id": "rC3QO_TqeW04",
        "outputId": "952bd257-bccd-41e8-ddf8-b856478470d4"
      },
      "outputs": [
        {
          "output_type": "stream",
          "name": "stdout",
          "text": [
            "Downloading data from https://storage.googleapis.com/tensorflow/keras-applications/mobilenet_v2/mobilenet_v2_weights_tf_dim_ordering_tf_kernels_1.0_128_no_top.h5\n",
            "\u001b[1m9406464/9406464\u001b[0m \u001b[32m━━━━━━━━━━━━━━━━━━━━\u001b[0m\u001b[37m\u001b[0m \u001b[1m0s\u001b[0m 0us/step\n"
          ]
        }
      ],
      "source": [
        "base_model = MobileNetV2(input_shape=(128, 128, 3), include_top=False, weights='imagenet')\n",
        "base_model.trainable = False"
      ]
    },
    {
      "cell_type": "code",
      "execution_count": null,
      "metadata": {
        "id": "rstGuUETeZyz"
      },
      "outputs": [],
      "source": [
        "model_mobile = models.Sequential([\n",
        "    base_model,\n",
        "    layers.GlobalAveragePooling2D(),\n",
        "    layers.Dense(128, activation='relu', kernel_regularizer=regularizers.l2(0.001)),\n",
        "    layers.Dropout(0.5),\n",
        "    layers.Dense(5, activation='softmax')\n",
        "])"
      ]
    },
    {
      "cell_type": "code",
      "execution_count": null,
      "metadata": {
        "id": "tipVxVNxecjA"
      },
      "outputs": [],
      "source": [
        "model_mobile.compile(optimizer='adam', loss='sparse_categorical_crossentropy', metrics=['accuracy'])"
      ]
    },
    {
      "cell_type": "code",
      "execution_count": null,
      "metadata": {
        "id": "GNoPNPyweftP"
      },
      "outputs": [],
      "source": [
        "initial_epochs = 10\n",
        "\n",
        "callbacks = [\n",
        "    EarlyStopping(patience=3, restore_best_weights=True),\n",
        "    ReduceLROnPlateau(patience=2)\n",
        "]"
      ]
    },
    {
      "cell_type": "code",
      "execution_count": null,
      "metadata": {
        "colab": {
          "base_uri": "https://localhost:8080/"
        },
        "id": "0TGpo6fteijO",
        "outputId": "8b116188-235d-4aeb-837d-6741a582de24"
      },
      "outputs": [
        {
          "output_type": "stream",
          "name": "stdout",
          "text": [
            "Epoch 1/10\n",
            "\u001b[1m48/48\u001b[0m \u001b[32m━━━━━━━━━━━━━━━━━━━━\u001b[0m\u001b[37m\u001b[0m \u001b[1m248s\u001b[0m 5s/step - accuracy: 0.5299 - loss: 1.5012 - val_accuracy: 0.6844 - val_loss: 1.1152 - learning_rate: 0.0010\n",
            "Epoch 2/10\n",
            "\u001b[1m48/48\u001b[0m \u001b[32m━━━━━━━━━━━━━━━━━━━━\u001b[0m\u001b[37m\u001b[0m \u001b[1m60s\u001b[0m 1s/step - accuracy: 0.8082 - loss: 0.7560 - val_accuracy: 0.6446 - val_loss: 1.1753 - learning_rate: 0.0010\n",
            "Epoch 3/10\n",
            "\u001b[1m48/48\u001b[0m \u001b[32m━━━━━━━━━━━━━━━━━━━━\u001b[0m\u001b[37m\u001b[0m \u001b[1m61s\u001b[0m 1s/step - accuracy: 0.8240 - loss: 0.6762 - val_accuracy: 0.6897 - val_loss: 1.0640 - learning_rate: 0.0010\n",
            "Epoch 4/10\n",
            "\u001b[1m48/48\u001b[0m \u001b[32m━━━━━━━━━━━━━━━━━━━━\u001b[0m\u001b[37m\u001b[0m \u001b[1m60s\u001b[0m 1s/step - accuracy: 0.8569 - loss: 0.5644 - val_accuracy: 0.6578 - val_loss: 1.3578 - learning_rate: 0.0010\n",
            "Epoch 5/10\n",
            "\u001b[1m48/48\u001b[0m \u001b[32m━━━━━━━━━━━━━━━━━━━━\u001b[0m\u001b[37m\u001b[0m \u001b[1m62s\u001b[0m 1s/step - accuracy: 0.8602 - loss: 0.5333 - val_accuracy: 0.6817 - val_loss: 1.2707 - learning_rate: 0.0010\n",
            "Epoch 6/10\n",
            "\u001b[1m48/48\u001b[0m \u001b[32m━━━━━━━━━━━━━━━━━━━━\u001b[0m\u001b[37m\u001b[0m \u001b[1m61s\u001b[0m 1s/step - accuracy: 0.8869 - loss: 0.4657 - val_accuracy: 0.7056 - val_loss: 1.2100 - learning_rate: 1.0000e-04\n"
          ]
        }
      ],
      "source": [
        "history = model_mobile.fit(\n",
        "    train_generator,\n",
        "    validation_data=val_generator,\n",
        "    epochs=initial_epochs,\n",
        "    callbacks=callbacks\n",
        ")"
      ]
    },
    {
      "cell_type": "code",
      "execution_count": null,
      "metadata": {
        "id": "KoN5MQDHekpi"
      },
      "outputs": [],
      "source": [
        "base_model.trainable = True\n",
        "for layer in base_model.layers[:-30]:\n",
        "    layer.trainable = False"
      ]
    },
    {
      "cell_type": "code",
      "source": [
        "model_mobile_pre = models.Sequential([\n",
        "    base_model,\n",
        "    layers.GlobalAveragePooling2D(),\n",
        "    layers.Dense(128, activation='relu', kernel_regularizer=regularizers.l2(0.001)),\n",
        "    layers.Dropout(0.5),\n",
        "    layers.Dense(5, activation='softmax')\n",
        "])"
      ],
      "metadata": {
        "id": "yMLaJaIsCkZz"
      },
      "execution_count": null,
      "outputs": []
    },
    {
      "cell_type": "code",
      "source": [
        "model_mobile_pre.compile(optimizer='adam', loss='sparse_categorical_crossentropy', metrics=['accuracy'])"
      ],
      "metadata": {
        "id": "lpXB9EvFClmo"
      },
      "execution_count": null,
      "outputs": []
    },
    {
      "cell_type": "code",
      "execution_count": null,
      "metadata": {
        "id": "n1QnHLORhICt"
      },
      "outputs": [],
      "source": [
        "model_mobile_pre.compile(optimizer=tf.keras.optimizers.Adam(1e-5),\n",
        "              loss='sparse_categorical_crossentropy',\n",
        "              metrics=['accuracy'])"
      ]
    },
    {
      "cell_type": "code",
      "execution_count": null,
      "metadata": {
        "id": "obZcLX7vhLwy",
        "colab": {
          "base_uri": "https://localhost:8080/"
        },
        "outputId": "d060ef85-349a-4e61-b5a6-4eba91c41f8e"
      },
      "outputs": [
        {
          "output_type": "stream",
          "name": "stdout",
          "text": [
            "Epoch 1/10\n",
            "\u001b[1m48/48\u001b[0m \u001b[32m━━━━━━━━━━━━━━━━━━━━\u001b[0m\u001b[37m\u001b[0m \u001b[1m89s\u001b[0m 2s/step - accuracy: 0.2895 - loss: 1.9955 - val_accuracy: 0.2467 - val_loss: 1.8450 - learning_rate: 1.0000e-05\n",
            "Epoch 2/10\n",
            "\u001b[1m48/48\u001b[0m \u001b[32m━━━━━━━━━━━━━━━━━━━━\u001b[0m\u001b[37m\u001b[0m \u001b[1m78s\u001b[0m 2s/step - accuracy: 0.4262 - loss: 1.5376 - val_accuracy: 0.4058 - val_loss: 1.6981 - learning_rate: 1.0000e-05\n",
            "Epoch 3/10\n",
            "\u001b[1m48/48\u001b[0m \u001b[32m━━━━━━━━━━━━━━━━━━━━\u001b[0m\u001b[37m\u001b[0m \u001b[1m76s\u001b[0m 2s/step - accuracy: 0.5893 - loss: 1.3135 - val_accuracy: 0.5172 - val_loss: 1.6457 - learning_rate: 1.0000e-05\n",
            "Epoch 4/10\n",
            "\u001b[1m48/48\u001b[0m \u001b[32m━━━━━━━━━━━━━━━━━━━━\u001b[0m\u001b[37m\u001b[0m \u001b[1m75s\u001b[0m 2s/step - accuracy: 0.6992 - loss: 1.0971 - val_accuracy: 0.6154 - val_loss: 1.5697 - learning_rate: 1.0000e-05\n",
            "Epoch 5/10\n",
            "\u001b[1m48/48\u001b[0m \u001b[32m━━━━━━━━━━━━━━━━━━━━\u001b[0m\u001b[37m\u001b[0m \u001b[1m78s\u001b[0m 2s/step - accuracy: 0.7471 - loss: 0.9642 - val_accuracy: 0.6552 - val_loss: 1.5384 - learning_rate: 1.0000e-05\n",
            "Epoch 6/10\n",
            "\u001b[1m48/48\u001b[0m \u001b[32m━━━━━━━━━━━━━━━━━━━━\u001b[0m\u001b[37m\u001b[0m \u001b[1m79s\u001b[0m 2s/step - accuracy: 0.7742 - loss: 0.8846 - val_accuracy: 0.6605 - val_loss: 1.5340 - learning_rate: 1.0000e-05\n",
            "Epoch 7/10\n",
            "\u001b[1m48/48\u001b[0m \u001b[32m━━━━━━━━━━━━━━━━━━━━\u001b[0m\u001b[37m\u001b[0m \u001b[1m77s\u001b[0m 2s/step - accuracy: 0.8039 - loss: 0.8011 - val_accuracy: 0.6790 - val_loss: 1.4733 - learning_rate: 1.0000e-05\n",
            "Epoch 8/10\n",
            "\u001b[1m48/48\u001b[0m \u001b[32m━━━━━━━━━━━━━━━━━━━━\u001b[0m\u001b[37m\u001b[0m \u001b[1m77s\u001b[0m 2s/step - accuracy: 0.8221 - loss: 0.7537 - val_accuracy: 0.6976 - val_loss: 1.5148 - learning_rate: 1.0000e-05\n",
            "Epoch 9/10\n",
            "\u001b[1m48/48\u001b[0m \u001b[32m━━━━━━━━━━━━━━━━━━━━\u001b[0m\u001b[37m\u001b[0m \u001b[1m76s\u001b[0m 2s/step - accuracy: 0.8520 - loss: 0.6835 - val_accuracy: 0.7029 - val_loss: 1.4472 - learning_rate: 1.0000e-05\n",
            "Epoch 10/10\n",
            "\u001b[1m48/48\u001b[0m \u001b[32m━━━━━━━━━━━━━━━━━━━━\u001b[0m\u001b[37m\u001b[0m \u001b[1m77s\u001b[0m 2s/step - accuracy: 0.8615 - loss: 0.6509 - val_accuracy: 0.7268 - val_loss: 1.4495 - learning_rate: 1.0000e-05\n"
          ]
        }
      ],
      "source": [
        "fine_tune_epochs = 10\n",
        "history_finetune = model_mobile_pre.fit(\n",
        "    train_generator,\n",
        "    validation_data=val_generator,\n",
        "    epochs=fine_tune_epochs,\n",
        "    callbacks=callbacks\n",
        ")"
      ]
    },
    {
      "cell_type": "code",
      "execution_count": null,
      "metadata": {
        "id": "5MNHZK3ShPG7",
        "collapsed": true,
        "colab": {
          "base_uri": "https://localhost:8080/"
        },
        "outputId": "f662f4dd-284b-4f8d-d829-a696b0aa1dd4"
      },
      "outputs": [
        {
          "output_type": "stream",
          "name": "stdout",
          "text": [
            "Saved artifact at 'mobilenet_saved_model'. The following endpoints are available:\n",
            "\n",
            "* Endpoint 'serve'\n",
            "  args_0 (POSITIONAL_ONLY): TensorSpec(shape=(None, 128, 128, 3), dtype=tf.float32, name='keras_tensor_628')\n",
            "Output Type:\n",
            "  TensorSpec(shape=(None, 5), dtype=tf.float32, name=None)\n",
            "Captures:\n",
            "  134282294138000: TensorSpec(shape=(), dtype=tf.resource, name=None)\n",
            "  134280414187536: TensorSpec(shape=(), dtype=tf.resource, name=None)\n",
            "  134280414187728: TensorSpec(shape=(), dtype=tf.resource, name=None)\n",
            "  134280414184656: TensorSpec(shape=(), dtype=tf.resource, name=None)\n",
            "  134280414184464: TensorSpec(shape=(), dtype=tf.resource, name=None)\n",
            "  134280414188880: TensorSpec(shape=(), dtype=tf.resource, name=None)\n",
            "  134280414189264: TensorSpec(shape=(), dtype=tf.resource, name=None)\n",
            "  134280414189648: TensorSpec(shape=(), dtype=tf.resource, name=None)\n",
            "  134280414189456: TensorSpec(shape=(), dtype=tf.resource, name=None)\n",
            "  134280414186960: TensorSpec(shape=(), dtype=tf.resource, name=None)\n",
            "  134280414190800: TensorSpec(shape=(), dtype=tf.resource, name=None)\n",
            "  134280414191184: TensorSpec(shape=(), dtype=tf.resource, name=None)\n",
            "  134280414191568: TensorSpec(shape=(), dtype=tf.resource, name=None)\n",
            "  134280414191376: TensorSpec(shape=(), dtype=tf.resource, name=None)\n",
            "  134280414187152: TensorSpec(shape=(), dtype=tf.resource, name=None)\n",
            "  134280414192720: TensorSpec(shape=(), dtype=tf.resource, name=None)\n",
            "  134280414193104: TensorSpec(shape=(), dtype=tf.resource, name=None)\n",
            "  134280414193488: TensorSpec(shape=(), dtype=tf.resource, name=None)\n",
            "  134280414193296: TensorSpec(shape=(), dtype=tf.resource, name=None)\n",
            "  134280414188496: TensorSpec(shape=(), dtype=tf.resource, name=None)\n",
            "  134280414194640: TensorSpec(shape=(), dtype=tf.resource, name=None)\n",
            "  134280414195024: TensorSpec(shape=(), dtype=tf.resource, name=None)\n",
            "  134280414195408: TensorSpec(shape=(), dtype=tf.resource, name=None)\n",
            "  134280414195216: TensorSpec(shape=(), dtype=tf.resource, name=None)\n",
            "  134280414190416: TensorSpec(shape=(), dtype=tf.resource, name=None)\n",
            "  134280414196560: TensorSpec(shape=(), dtype=tf.resource, name=None)\n",
            "  134280414196944: TensorSpec(shape=(), dtype=tf.resource, name=None)\n",
            "  134280414197328: TensorSpec(shape=(), dtype=tf.resource, name=None)\n",
            "  134280414197136: TensorSpec(shape=(), dtype=tf.resource, name=None)\n",
            "  134280414192336: TensorSpec(shape=(), dtype=tf.resource, name=None)\n",
            "  134280414198480: TensorSpec(shape=(), dtype=tf.resource, name=None)\n",
            "  134280414198864: TensorSpec(shape=(), dtype=tf.resource, name=None)\n",
            "  134280414199632: TensorSpec(shape=(), dtype=tf.resource, name=None)\n",
            "  134280414199056: TensorSpec(shape=(), dtype=tf.resource, name=None)\n",
            "  134280414194256: TensorSpec(shape=(), dtype=tf.resource, name=None)\n",
            "  134280414183696: TensorSpec(shape=(), dtype=tf.resource, name=None)\n",
            "  134280414790672: TensorSpec(shape=(), dtype=tf.resource, name=None)\n",
            "  134280414789712: TensorSpec(shape=(), dtype=tf.resource, name=None)\n",
            "  134280414196176: TensorSpec(shape=(), dtype=tf.resource, name=None)\n",
            "  134280414789904: TensorSpec(shape=(), dtype=tf.resource, name=None)\n",
            "  134280414792208: TensorSpec(shape=(), dtype=tf.resource, name=None)\n",
            "  134280414792592: TensorSpec(shape=(), dtype=tf.resource, name=None)\n",
            "  134280414792976: TensorSpec(shape=(), dtype=tf.resource, name=None)\n",
            "  134280414792784: TensorSpec(shape=(), dtype=tf.resource, name=None)\n",
            "  134280414790096: TensorSpec(shape=(), dtype=tf.resource, name=None)\n",
            "  134280414794128: TensorSpec(shape=(), dtype=tf.resource, name=None)\n",
            "  134280414794512: TensorSpec(shape=(), dtype=tf.resource, name=None)\n",
            "  134280414794896: TensorSpec(shape=(), dtype=tf.resource, name=None)\n",
            "  134280414794704: TensorSpec(shape=(), dtype=tf.resource, name=None)\n",
            "  134280414791056: TensorSpec(shape=(), dtype=tf.resource, name=None)\n",
            "  134280414796048: TensorSpec(shape=(), dtype=tf.resource, name=None)\n",
            "  134280414796432: TensorSpec(shape=(), dtype=tf.resource, name=None)\n",
            "  134280414796816: TensorSpec(shape=(), dtype=tf.resource, name=None)\n",
            "  134280414796624: TensorSpec(shape=(), dtype=tf.resource, name=None)\n",
            "  134280414791824: TensorSpec(shape=(), dtype=tf.resource, name=None)\n",
            "  134280414797968: TensorSpec(shape=(), dtype=tf.resource, name=None)\n",
            "  134280414798352: TensorSpec(shape=(), dtype=tf.resource, name=None)\n",
            "  134280414798736: TensorSpec(shape=(), dtype=tf.resource, name=None)\n",
            "  134280414798544: TensorSpec(shape=(), dtype=tf.resource, name=None)\n",
            "  134280414793744: TensorSpec(shape=(), dtype=tf.resource, name=None)\n",
            "  134280414799888: TensorSpec(shape=(), dtype=tf.resource, name=None)\n",
            "  134280414800272: TensorSpec(shape=(), dtype=tf.resource, name=None)\n",
            "  134280414800656: TensorSpec(shape=(), dtype=tf.resource, name=None)\n",
            "  134280414800464: TensorSpec(shape=(), dtype=tf.resource, name=None)\n",
            "  134280414795664: TensorSpec(shape=(), dtype=tf.resource, name=None)\n",
            "  134280414801808: TensorSpec(shape=(), dtype=tf.resource, name=None)\n",
            "  134280414802192: TensorSpec(shape=(), dtype=tf.resource, name=None)\n",
            "  134280414802576: TensorSpec(shape=(), dtype=tf.resource, name=None)\n",
            "  134280414802384: TensorSpec(shape=(), dtype=tf.resource, name=None)\n",
            "  134280414797584: TensorSpec(shape=(), dtype=tf.resource, name=None)\n",
            "  134280414803728: TensorSpec(shape=(), dtype=tf.resource, name=None)\n",
            "  134280414804112: TensorSpec(shape=(), dtype=tf.resource, name=None)\n",
            "  134280414804496: TensorSpec(shape=(), dtype=tf.resource, name=None)\n",
            "  134280414804304: TensorSpec(shape=(), dtype=tf.resource, name=None)\n",
            "  134280414799504: TensorSpec(shape=(), dtype=tf.resource, name=None)\n",
            "  134280414805648: TensorSpec(shape=(), dtype=tf.resource, name=None)\n",
            "  134280414790480: TensorSpec(shape=(), dtype=tf.resource, name=None)\n",
            "  134280413086160: TensorSpec(shape=(), dtype=tf.resource, name=None)\n",
            "  134280414805264: TensorSpec(shape=(), dtype=tf.resource, name=None)\n",
            "  134280414803344: TensorSpec(shape=(), dtype=tf.resource, name=None)\n",
            "  134280413087312: TensorSpec(shape=(), dtype=tf.resource, name=None)\n",
            "  134280413087696: TensorSpec(shape=(), dtype=tf.resource, name=None)\n",
            "  134280413088080: TensorSpec(shape=(), dtype=tf.resource, name=None)\n",
            "  134280413087888: TensorSpec(shape=(), dtype=tf.resource, name=None)\n",
            "  134280413086544: TensorSpec(shape=(), dtype=tf.resource, name=None)\n",
            "  134280413089232: TensorSpec(shape=(), dtype=tf.resource, name=None)\n",
            "  134280413089616: TensorSpec(shape=(), dtype=tf.resource, name=None)\n",
            "  134280413090000: TensorSpec(shape=(), dtype=tf.resource, name=None)\n",
            "  134280413089808: TensorSpec(shape=(), dtype=tf.resource, name=None)\n",
            "  134280413086736: TensorSpec(shape=(), dtype=tf.resource, name=None)\n",
            "  134280413091152: TensorSpec(shape=(), dtype=tf.resource, name=None)\n",
            "  134280413091536: TensorSpec(shape=(), dtype=tf.resource, name=None)\n",
            "  134280413091920: TensorSpec(shape=(), dtype=tf.resource, name=None)\n",
            "  134280413091728: TensorSpec(shape=(), dtype=tf.resource, name=None)\n",
            "  134280413085968: TensorSpec(shape=(), dtype=tf.resource, name=None)\n",
            "  134280413093072: TensorSpec(shape=(), dtype=tf.resource, name=None)\n",
            "  134280413093456: TensorSpec(shape=(), dtype=tf.resource, name=None)\n",
            "  134280413093840: TensorSpec(shape=(), dtype=tf.resource, name=None)\n",
            "  134280413093648: TensorSpec(shape=(), dtype=tf.resource, name=None)\n",
            "  134280413088848: TensorSpec(shape=(), dtype=tf.resource, name=None)\n",
            "  134280413094992: TensorSpec(shape=(), dtype=tf.resource, name=None)\n",
            "  134280413095376: TensorSpec(shape=(), dtype=tf.resource, name=None)\n",
            "  134280413095760: TensorSpec(shape=(), dtype=tf.resource, name=None)\n",
            "  134280413095568: TensorSpec(shape=(), dtype=tf.resource, name=None)\n",
            "  134280413090768: TensorSpec(shape=(), dtype=tf.resource, name=None)\n",
            "  134280413096912: TensorSpec(shape=(), dtype=tf.resource, name=None)\n",
            "  134280413097296: TensorSpec(shape=(), dtype=tf.resource, name=None)\n",
            "  134280413097680: TensorSpec(shape=(), dtype=tf.resource, name=None)\n",
            "  134280413097488: TensorSpec(shape=(), dtype=tf.resource, name=None)\n",
            "  134280413092688: TensorSpec(shape=(), dtype=tf.resource, name=None)\n",
            "  134280413098832: TensorSpec(shape=(), dtype=tf.resource, name=None)\n",
            "  134280413099216: TensorSpec(shape=(), dtype=tf.resource, name=None)\n",
            "  134280413099600: TensorSpec(shape=(), dtype=tf.resource, name=None)\n",
            "  134280413099408: TensorSpec(shape=(), dtype=tf.resource, name=None)\n",
            "  134280413094608: TensorSpec(shape=(), dtype=tf.resource, name=None)\n",
            "  134280413100752: TensorSpec(shape=(), dtype=tf.resource, name=None)\n",
            "  134280413101136: TensorSpec(shape=(), dtype=tf.resource, name=None)\n",
            "  134280413101904: TensorSpec(shape=(), dtype=tf.resource, name=None)\n",
            "  134280413101328: TensorSpec(shape=(), dtype=tf.resource, name=None)\n",
            "  134280413096528: TensorSpec(shape=(), dtype=tf.resource, name=None)\n",
            "  134280413086928: TensorSpec(shape=(), dtype=tf.resource, name=None)\n",
            "  134280413512720: TensorSpec(shape=(), dtype=tf.resource, name=None)\n",
            "  134280413511760: TensorSpec(shape=(), dtype=tf.resource, name=None)\n",
            "  134280413098448: TensorSpec(shape=(), dtype=tf.resource, name=None)\n",
            "  134280413511952: TensorSpec(shape=(), dtype=tf.resource, name=None)\n",
            "  134280413514256: TensorSpec(shape=(), dtype=tf.resource, name=None)\n",
            "  134280413514640: TensorSpec(shape=(), dtype=tf.resource, name=None)\n",
            "  134280413515024: TensorSpec(shape=(), dtype=tf.resource, name=None)\n",
            "  134280413514832: TensorSpec(shape=(), dtype=tf.resource, name=None)\n",
            "  134280413512144: TensorSpec(shape=(), dtype=tf.resource, name=None)\n",
            "  134280413516176: TensorSpec(shape=(), dtype=tf.resource, name=None)\n",
            "  134280413516560: TensorSpec(shape=(), dtype=tf.resource, name=None)\n",
            "  134280413516944: TensorSpec(shape=(), dtype=tf.resource, name=None)\n",
            "  134280413516752: TensorSpec(shape=(), dtype=tf.resource, name=None)\n",
            "  134280413513104: TensorSpec(shape=(), dtype=tf.resource, name=None)\n",
            "  134280413518096: TensorSpec(shape=(), dtype=tf.resource, name=None)\n",
            "  134280413518480: TensorSpec(shape=(), dtype=tf.resource, name=None)\n",
            "  134280413518864: TensorSpec(shape=(), dtype=tf.resource, name=None)\n",
            "  134280413518672: TensorSpec(shape=(), dtype=tf.resource, name=None)\n",
            "  134280413513872: TensorSpec(shape=(), dtype=tf.resource, name=None)\n",
            "  134280413520016: TensorSpec(shape=(), dtype=tf.resource, name=None)\n",
            "  134280413520400: TensorSpec(shape=(), dtype=tf.resource, name=None)\n",
            "  134280413520784: TensorSpec(shape=(), dtype=tf.resource, name=None)\n",
            "  134280413520592: TensorSpec(shape=(), dtype=tf.resource, name=None)\n",
            "  134280413515792: TensorSpec(shape=(), dtype=tf.resource, name=None)\n",
            "  134280413521936: TensorSpec(shape=(), dtype=tf.resource, name=None)\n",
            "  134280413522320: TensorSpec(shape=(), dtype=tf.resource, name=None)\n",
            "  134280413522704: TensorSpec(shape=(), dtype=tf.resource, name=None)\n",
            "  134280413522512: TensorSpec(shape=(), dtype=tf.resource, name=None)\n",
            "  134280413517712: TensorSpec(shape=(), dtype=tf.resource, name=None)\n",
            "  134280413523856: TensorSpec(shape=(), dtype=tf.resource, name=None)\n",
            "  134280413524240: TensorSpec(shape=(), dtype=tf.resource, name=None)\n",
            "  134280413524624: TensorSpec(shape=(), dtype=tf.resource, name=None)\n",
            "  134280413524432: TensorSpec(shape=(), dtype=tf.resource, name=None)\n",
            "  134280413519632: TensorSpec(shape=(), dtype=tf.resource, name=None)\n",
            "  134280413525776: TensorSpec(shape=(), dtype=tf.resource, name=None)\n",
            "  134280413526160: TensorSpec(shape=(), dtype=tf.resource, name=None)\n",
            "  134280413526544: TensorSpec(shape=(), dtype=tf.resource, name=None)\n",
            "  134280413526352: TensorSpec(shape=(), dtype=tf.resource, name=None)\n",
            "  134280413521552: TensorSpec(shape=(), dtype=tf.resource, name=None)\n",
            "  134280413527696: TensorSpec(shape=(), dtype=tf.resource, name=None)\n",
            "  134280413512528: TensorSpec(shape=(), dtype=tf.resource, name=None)\n",
            "  134280413904976: TensorSpec(shape=(), dtype=tf.resource, name=None)\n",
            "  134280413527312: TensorSpec(shape=(), dtype=tf.resource, name=None)\n",
            "  134280413525392: TensorSpec(shape=(), dtype=tf.resource, name=None)\n",
            "  134280413906512: TensorSpec(shape=(), dtype=tf.resource, name=None)\n",
            "  134280413906896: TensorSpec(shape=(), dtype=tf.resource, name=None)\n",
            "  134280413907280: TensorSpec(shape=(), dtype=tf.resource, name=None)\n",
            "  134280413907088: TensorSpec(shape=(), dtype=tf.resource, name=None)\n",
            "  134280413905744: TensorSpec(shape=(), dtype=tf.resource, name=None)\n",
            "  134280413908432: TensorSpec(shape=(), dtype=tf.resource, name=None)\n",
            "  134280413908816: TensorSpec(shape=(), dtype=tf.resource, name=None)\n",
            "  134280413909200: TensorSpec(shape=(), dtype=tf.resource, name=None)\n",
            "  134280413909008: TensorSpec(shape=(), dtype=tf.resource, name=None)\n",
            "  134280413905936: TensorSpec(shape=(), dtype=tf.resource, name=None)\n",
            "  134280413910352: TensorSpec(shape=(), dtype=tf.resource, name=None)\n",
            "  134280413910736: TensorSpec(shape=(), dtype=tf.resource, name=None)\n",
            "  134280413911120: TensorSpec(shape=(), dtype=tf.resource, name=None)\n",
            "  134280413910928: TensorSpec(shape=(), dtype=tf.resource, name=None)\n",
            "  134280413905168: TensorSpec(shape=(), dtype=tf.resource, name=None)\n",
            "  134280413912272: TensorSpec(shape=(), dtype=tf.resource, name=None)\n",
            "  134280413912656: TensorSpec(shape=(), dtype=tf.resource, name=None)\n",
            "  134280413913040: TensorSpec(shape=(), dtype=tf.resource, name=None)\n",
            "  134280413912848: TensorSpec(shape=(), dtype=tf.resource, name=None)\n",
            "  134280413908048: TensorSpec(shape=(), dtype=tf.resource, name=None)\n",
            "  134280413914192: TensorSpec(shape=(), dtype=tf.resource, name=None)\n",
            "  134280413914576: TensorSpec(shape=(), dtype=tf.resource, name=None)\n",
            "  134280413914960: TensorSpec(shape=(), dtype=tf.resource, name=None)\n",
            "  134280413914768: TensorSpec(shape=(), dtype=tf.resource, name=None)\n",
            "  134280413909968: TensorSpec(shape=(), dtype=tf.resource, name=None)\n",
            "  134280413916112: TensorSpec(shape=(), dtype=tf.resource, name=None)\n",
            "  134280413916496: TensorSpec(shape=(), dtype=tf.resource, name=None)\n",
            "  134280413916880: TensorSpec(shape=(), dtype=tf.resource, name=None)\n",
            "  134280413916688: TensorSpec(shape=(), dtype=tf.resource, name=None)\n",
            "  134280413911888: TensorSpec(shape=(), dtype=tf.resource, name=None)\n",
            "  134280413918032: TensorSpec(shape=(), dtype=tf.resource, name=None)\n",
            "  134280413918416: TensorSpec(shape=(), dtype=tf.resource, name=None)\n",
            "  134280413918800: TensorSpec(shape=(), dtype=tf.resource, name=None)\n",
            "  134280413918608: TensorSpec(shape=(), dtype=tf.resource, name=None)\n",
            "  134280413913808: TensorSpec(shape=(), dtype=tf.resource, name=None)\n",
            "  134280413919952: TensorSpec(shape=(), dtype=tf.resource, name=None)\n",
            "  134280413920336: TensorSpec(shape=(), dtype=tf.resource, name=None)\n",
            "  134280413921104: TensorSpec(shape=(), dtype=tf.resource, name=None)\n",
            "  134280413920528: TensorSpec(shape=(), dtype=tf.resource, name=None)\n",
            "  134280413915728: TensorSpec(shape=(), dtype=tf.resource, name=None)\n",
            "  134280413906128: TensorSpec(shape=(), dtype=tf.resource, name=None)\n",
            "  134280412267536: TensorSpec(shape=(), dtype=tf.resource, name=None)\n",
            "  134280412266576: TensorSpec(shape=(), dtype=tf.resource, name=None)\n",
            "  134280413917648: TensorSpec(shape=(), dtype=tf.resource, name=None)\n",
            "  134280412266768: TensorSpec(shape=(), dtype=tf.resource, name=None)\n",
            "  134280412269072: TensorSpec(shape=(), dtype=tf.resource, name=None)\n",
            "  134280412269456: TensorSpec(shape=(), dtype=tf.resource, name=None)\n",
            "  134280412269840: TensorSpec(shape=(), dtype=tf.resource, name=None)\n",
            "  134280412269648: TensorSpec(shape=(), dtype=tf.resource, name=None)\n",
            "  134280412266960: TensorSpec(shape=(), dtype=tf.resource, name=None)\n",
            "  134280412270992: TensorSpec(shape=(), dtype=tf.resource, name=None)\n",
            "  134280412271376: TensorSpec(shape=(), dtype=tf.resource, name=None)\n",
            "  134280412271760: TensorSpec(shape=(), dtype=tf.resource, name=None)\n",
            "  134280412271568: TensorSpec(shape=(), dtype=tf.resource, name=None)\n",
            "  134280412267920: TensorSpec(shape=(), dtype=tf.resource, name=None)\n",
            "  134280412272912: TensorSpec(shape=(), dtype=tf.resource, name=None)\n",
            "  134280412273296: TensorSpec(shape=(), dtype=tf.resource, name=None)\n",
            "  134280412273680: TensorSpec(shape=(), dtype=tf.resource, name=None)\n",
            "  134280412273488: TensorSpec(shape=(), dtype=tf.resource, name=None)\n",
            "  134280412268688: TensorSpec(shape=(), dtype=tf.resource, name=None)\n",
            "  134280412274832: TensorSpec(shape=(), dtype=tf.resource, name=None)\n",
            "  134280412275216: TensorSpec(shape=(), dtype=tf.resource, name=None)\n",
            "  134280412275600: TensorSpec(shape=(), dtype=tf.resource, name=None)\n",
            "  134280412275408: TensorSpec(shape=(), dtype=tf.resource, name=None)\n",
            "  134280412270608: TensorSpec(shape=(), dtype=tf.resource, name=None)\n",
            "  134280412276752: TensorSpec(shape=(), dtype=tf.resource, name=None)\n",
            "  134280412277136: TensorSpec(shape=(), dtype=tf.resource, name=None)\n",
            "  134280412277520: TensorSpec(shape=(), dtype=tf.resource, name=None)\n",
            "  134280412277328: TensorSpec(shape=(), dtype=tf.resource, name=None)\n",
            "  134280412272528: TensorSpec(shape=(), dtype=tf.resource, name=None)\n",
            "  134280412278672: TensorSpec(shape=(), dtype=tf.resource, name=None)\n",
            "  134280412279056: TensorSpec(shape=(), dtype=tf.resource, name=None)\n",
            "  134280412279440: TensorSpec(shape=(), dtype=tf.resource, name=None)\n",
            "  134280412279248: TensorSpec(shape=(), dtype=tf.resource, name=None)\n",
            "  134280412274448: TensorSpec(shape=(), dtype=tf.resource, name=None)\n",
            "  134280412280592: TensorSpec(shape=(), dtype=tf.resource, name=None)\n",
            "  134280412280976: TensorSpec(shape=(), dtype=tf.resource, name=None)\n",
            "  134280412281360: TensorSpec(shape=(), dtype=tf.resource, name=None)\n",
            "  134280412281168: TensorSpec(shape=(), dtype=tf.resource, name=None)\n",
            "  134280412276368: TensorSpec(shape=(), dtype=tf.resource, name=None)\n",
            "  134280412282512: TensorSpec(shape=(), dtype=tf.resource, name=None)\n",
            "  134280412267344: TensorSpec(shape=(), dtype=tf.resource, name=None)\n",
            "  134280412660752: TensorSpec(shape=(), dtype=tf.resource, name=None)\n",
            "  134280412282128: TensorSpec(shape=(), dtype=tf.resource, name=None)\n",
            "  134280412280208: TensorSpec(shape=(), dtype=tf.resource, name=None)\n",
            "  134280412661328: TensorSpec(shape=(), dtype=tf.resource, name=None)\n",
            "  134280412661712: TensorSpec(shape=(), dtype=tf.resource, name=None)\n",
            "  134280412662096: TensorSpec(shape=(), dtype=tf.resource, name=None)\n",
            "  134280412661904: TensorSpec(shape=(), dtype=tf.resource, name=None)\n",
            "  134280412660560: TensorSpec(shape=(), dtype=tf.resource, name=None)\n",
            "  134280412663248: TensorSpec(shape=(), dtype=tf.resource, name=None)\n",
            "  134280412663632: TensorSpec(shape=(), dtype=tf.resource, name=None)\n",
            "  134280412664016: TensorSpec(shape=(), dtype=tf.resource, name=None)\n",
            "  134280412663824: TensorSpec(shape=(), dtype=tf.resource, name=None)\n",
            "  134280412659792: TensorSpec(shape=(), dtype=tf.resource, name=None)\n",
            "  134280412662864: TensorSpec(shape=(), dtype=tf.resource, name=None)\n",
            "  134280412666512: TensorSpec(shape=(), dtype=tf.resource, name=None)\n",
            "  134280412665936: TensorSpec(shape=(), dtype=tf.resource, name=None)\n",
            "  134280412667280: TensorSpec(shape=(), dtype=tf.resource, name=None)\n"
          ]
        }
      ],
      "source": [
        "model_mobile.export(\"mobilenet_saved_model\")"
      ]
    },
    {
      "cell_type": "code",
      "source": [
        "model_mobile_pre.export(\"mobilenet_pre_saved_model\")"
      ],
      "metadata": {
        "id": "dC7yiWBpA--H"
      },
      "execution_count": null,
      "outputs": []
    },
    {
      "cell_type": "code",
      "execution_count": null,
      "metadata": {
        "id": "ri9-8Okc3wBw"
      },
      "outputs": [],
      "source": [
        "model_mobile.save(\"mobilenet_model.keras\")"
      ]
    },
    {
      "cell_type": "code",
      "source": [
        "model_mobile_pre.save(\"mobilenet_pre_model.keras\")"
      ],
      "metadata": {
        "id": "AWX4wnSzA78Q"
      },
      "execution_count": null,
      "outputs": []
    },
    {
      "cell_type": "code",
      "execution_count": null,
      "metadata": {
        "id": "Ee09ggaI4Eh3"
      },
      "outputs": [],
      "source": [
        "import tensorflow as tf\n",
        "from tensorflow.keras.applications import EfficientNetB0\n",
        "from tensorflow.keras.preprocessing.image import ImageDataGenerator\n",
        "from tensorflow.keras import layers, models"
      ]
    },
    {
      "cell_type": "code",
      "execution_count": null,
      "metadata": {
        "id": "zmvV_UBObq00"
      },
      "outputs": [],
      "source": [
        "img_size = 128\n",
        "batch_size = 32"
      ]
    },
    {
      "cell_type": "code",
      "execution_count": null,
      "metadata": {
        "id": "b8C2KMkLcOwW"
      },
      "outputs": [],
      "source": [
        "early_stop = EarlyStopping(patience=5, restore_best_weights=True)\n",
        "reduce_lr = ReduceLROnPlateau(factor=0.2, patience=3, verbose=1)"
      ]
    },
    {
      "cell_type": "code",
      "source": [
        "model_tinycnn = models.Sequential([\n",
        "    layers.Conv2D(16, (3, 3), padding='same', activation='relu',\n",
        "                  kernel_regularizer=regularizers.l2(1e-4), input_shape=(128, 128, 3)),\n",
        "    layers.MaxPooling2D(2, 2),\n",
        "    layers.Dropout(0.25),\n",
        "\n",
        "    layers.Conv2D(32, (3, 3), padding='same', activation='relu',\n",
        "                  kernel_regularizer=regularizers.l2(1e-4)),\n",
        "    layers.MaxPooling2D(2, 2),\n",
        "    layers.Dropout(0.25),\n",
        "\n",
        "    layers.Flatten(),\n",
        "    layers.Dense(128, activation='relu',\n",
        "                 kernel_regularizer=regularizers.l2(1e-4)),\n",
        "    layers.Dropout(0.5),\n",
        "    layers.Dense(5, activation='softmax')\n",
        "])"
      ],
      "metadata": {
        "colab": {
          "base_uri": "https://localhost:8080/"
        },
        "id": "kpKEdNiQZFK8",
        "outputId": "3c5f9079-1be7-47eb-bec9-9289fc9b26d6"
      },
      "execution_count": null,
      "outputs": [
        {
          "output_type": "stream",
          "name": "stderr",
          "text": [
            "/usr/local/lib/python3.11/dist-packages/keras/src/layers/convolutional/base_conv.py:107: UserWarning: Do not pass an `input_shape`/`input_dim` argument to a layer. When using Sequential models, prefer using an `Input(shape)` object as the first layer in the model instead.\n",
            "  super().__init__(activity_regularizer=activity_regularizer, **kwargs)\n"
          ]
        }
      ]
    },
    {
      "cell_type": "code",
      "source": [
        "model_tinycnn.compile(\n",
        "    optimizer=tf.keras.optimizers.Adam(learning_rate=0.001),\n",
        "    loss='sparse_categorical_crossentropy',\n",
        "    metrics=['accuracy']\n",
        ")"
      ],
      "metadata": {
        "id": "dv-xIbFnZgEF"
      },
      "execution_count": null,
      "outputs": []
    },
    {
      "cell_type": "code",
      "source": [
        "early_stop = EarlyStopping(\n",
        "    patience=5,\n",
        "    restore_best_weights=True,\n",
        "    monitor='val_loss'\n",
        ")"
      ],
      "metadata": {
        "id": "2T6B3vSsZji3"
      },
      "execution_count": null,
      "outputs": []
    },
    {
      "cell_type": "code",
      "source": [
        "reduce_lr = ReduceLROnPlateau(\n",
        "    factor=0.2,\n",
        "    patience=3,\n",
        "    verbose=1\n",
        ")"
      ],
      "metadata": {
        "id": "IgE_IrygZn-S"
      },
      "execution_count": null,
      "outputs": []
    },
    {
      "cell_type": "code",
      "source": [
        "history = model_tinycnn.fit(\n",
        "    train_generator,\n",
        "    validation_data=val_generator,\n",
        "    epochs=20,\n",
        "    callbacks=[early_stop, reduce_lr]\n",
        ")"
      ],
      "metadata": {
        "colab": {
          "base_uri": "https://localhost:8080/"
        },
        "id": "i2Ai6w7oZsfB",
        "outputId": "7a8ff9f5-2541-44a6-a2d4-3c44e387d6ed"
      },
      "execution_count": null,
      "outputs": [
        {
          "output_type": "stream",
          "name": "stdout",
          "text": [
            "Epoch 1/20\n",
            "\u001b[1m48/48\u001b[0m \u001b[32m━━━━━━━━━━━━━━━━━━━━\u001b[0m\u001b[37m\u001b[0m \u001b[1m63s\u001b[0m 1s/step - accuracy: 0.3658 - loss: 4.7272 - val_accuracy: 0.4695 - val_loss: 1.2719 - learning_rate: 0.0010\n",
            "Epoch 2/20\n",
            "\u001b[1m48/48\u001b[0m \u001b[32m━━━━━━━━━━━━━━━━━━━━\u001b[0m\u001b[37m\u001b[0m \u001b[1m59s\u001b[0m 1s/step - accuracy: 0.5877 - loss: 1.0472 - val_accuracy: 0.6313 - val_loss: 1.0867 - learning_rate: 0.0010\n",
            "Epoch 3/20\n",
            "\u001b[1m48/48\u001b[0m \u001b[32m━━━━━━━━━━━━━━━━━━━━\u001b[0m\u001b[37m\u001b[0m \u001b[1m59s\u001b[0m 1s/step - accuracy: 0.5978 - loss: 0.9567 - val_accuracy: 0.7109 - val_loss: 1.0171 - learning_rate: 0.0010\n",
            "Epoch 4/20\n",
            "\u001b[1m48/48\u001b[0m \u001b[32m━━━━━━━━━━━━━━━━━━━━\u001b[0m\u001b[37m\u001b[0m \u001b[1m60s\u001b[0m 1s/step - accuracy: 0.6657 - loss: 0.8338 - val_accuracy: 0.7135 - val_loss: 1.0097 - learning_rate: 0.0010\n",
            "Epoch 5/20\n",
            "\u001b[1m48/48\u001b[0m \u001b[32m━━━━━━━━━━━━━━━━━━━━\u001b[0m\u001b[37m\u001b[0m \u001b[1m60s\u001b[0m 1s/step - accuracy: 0.7153 - loss: 0.7146 - val_accuracy: 0.7454 - val_loss: 0.8602 - learning_rate: 0.0010\n",
            "Epoch 6/20\n",
            "\u001b[1m48/48\u001b[0m \u001b[32m━━━━━━━━━━━━━━━━━━━━\u001b[0m\u001b[37m\u001b[0m \u001b[1m59s\u001b[0m 1s/step - accuracy: 0.7449 - loss: 0.6581 - val_accuracy: 0.7878 - val_loss: 0.8841 - learning_rate: 0.0010\n",
            "Epoch 7/20\n",
            "\u001b[1m48/48\u001b[0m \u001b[32m━━━━━━━━━━━━━━━━━━━━\u001b[0m\u001b[37m\u001b[0m \u001b[1m60s\u001b[0m 1s/step - accuracy: 0.7342 - loss: 0.6609 - val_accuracy: 0.7851 - val_loss: 0.8746 - learning_rate: 0.0010\n",
            "Epoch 8/20\n",
            "\u001b[1m48/48\u001b[0m \u001b[32m━━━━━━━━━━━━━━━━━━━━\u001b[0m\u001b[37m\u001b[0m \u001b[1m60s\u001b[0m 1s/step - accuracy: 0.7433 - loss: 0.6733 - val_accuracy: 0.7692 - val_loss: 0.7860 - learning_rate: 0.0010\n",
            "Epoch 9/20\n",
            "\u001b[1m48/48\u001b[0m \u001b[32m━━━━━━━━━━━━━━━━━━━━\u001b[0m\u001b[37m\u001b[0m \u001b[1m62s\u001b[0m 1s/step - accuracy: 0.7802 - loss: 0.5620 - val_accuracy: 0.7613 - val_loss: 0.8260 - learning_rate: 0.0010\n",
            "Epoch 10/20\n",
            "\u001b[1m48/48\u001b[0m \u001b[32m━━━━━━━━━━━━━━━━━━━━\u001b[0m\u001b[37m\u001b[0m \u001b[1m58s\u001b[0m 1s/step - accuracy: 0.7820 - loss: 0.5777 - val_accuracy: 0.8011 - val_loss: 0.8619 - learning_rate: 0.0010\n",
            "Epoch 11/20\n",
            "\u001b[1m48/48\u001b[0m \u001b[32m━━━━━━━━━━━━━━━━━━━━\u001b[0m\u001b[37m\u001b[0m \u001b[1m0s\u001b[0m 1s/step - accuracy: 0.8193 - loss: 0.5290\n",
            "Epoch 11: ReduceLROnPlateau reducing learning rate to 0.00020000000949949026.\n",
            "\u001b[1m48/48\u001b[0m \u001b[32m━━━━━━━━━━━━━━━━━━━━\u001b[0m\u001b[37m\u001b[0m \u001b[1m60s\u001b[0m 1s/step - accuracy: 0.8194 - loss: 0.5285 - val_accuracy: 0.8011 - val_loss: 0.7935 - learning_rate: 0.0010\n",
            "Epoch 12/20\n",
            "\u001b[1m48/48\u001b[0m \u001b[32m━━━━━━━━━━━━━━━━━━━━\u001b[0m\u001b[37m\u001b[0m \u001b[1m61s\u001b[0m 1s/step - accuracy: 0.8298 - loss: 0.4905 - val_accuracy: 0.7851 - val_loss: 0.8270 - learning_rate: 2.0000e-04\n",
            "Epoch 13/20\n",
            "\u001b[1m48/48\u001b[0m \u001b[32m━━━━━━━━━━━━━━━━━━━━\u001b[0m\u001b[37m\u001b[0m \u001b[1m63s\u001b[0m 1s/step - accuracy: 0.8696 - loss: 0.4062 - val_accuracy: 0.7613 - val_loss: 0.8442 - learning_rate: 2.0000e-04\n"
          ]
        }
      ]
    },
    {
      "cell_type": "code",
      "source": [
        "model_tinycnn.export(\"tinycnn_saved_model\")"
      ],
      "metadata": {
        "colab": {
          "base_uri": "https://localhost:8080/"
        },
        "id": "8dzZxa7zRi9G",
        "outputId": "592bb67c-e39a-407f-cc46-62330476eecf"
      },
      "execution_count": null,
      "outputs": [
        {
          "output_type": "stream",
          "name": "stdout",
          "text": [
            "Saved artifact at 'tinycnn_saved_model'. The following endpoints are available:\n",
            "\n",
            "* Endpoint 'serve'\n",
            "  args_0 (POSITIONAL_ONLY): TensorSpec(shape=(None, 128, 128, 3), dtype=tf.float32, name='keras_tensor_645')\n",
            "Output Type:\n",
            "  TensorSpec(shape=(None, 5), dtype=tf.float32, name=None)\n",
            "Captures:\n",
            "  134282294136272: TensorSpec(shape=(), dtype=tf.resource, name=None)\n",
            "  134282294148368: TensorSpec(shape=(), dtype=tf.resource, name=None)\n",
            "  134282294147216: TensorSpec(shape=(), dtype=tf.resource, name=None)\n",
            "  134282294136080: TensorSpec(shape=(), dtype=tf.resource, name=None)\n",
            "  134282294148944: TensorSpec(shape=(), dtype=tf.resource, name=None)\n",
            "  134282294137040: TensorSpec(shape=(), dtype=tf.resource, name=None)\n",
            "  134282294134736: TensorSpec(shape=(), dtype=tf.resource, name=None)\n",
            "  134282288735888: TensorSpec(shape=(), dtype=tf.resource, name=None)\n"
          ]
        }
      ]
    },
    {
      "cell_type": "code",
      "source": [
        "model_tinycnn.save(\"tinycnn_model.keras\")"
      ],
      "metadata": {
        "id": "AfPwjHvGRi59"
      },
      "execution_count": null,
      "outputs": []
    },
    {
      "cell_type": "markdown",
      "source": [
        "## ResNet8"
      ],
      "metadata": {
        "id": "SWAWdGkP3LUN"
      }
    },
    {
      "cell_type": "code",
      "source": [
        "from tensorflow.keras import layers, models, regularizers"
      ],
      "metadata": {
        "id": "PAb3KDWg3UNa"
      },
      "execution_count": null,
      "outputs": []
    },
    {
      "cell_type": "code",
      "source": [
        "def resnet_block(inputs, filters, kernel_size=3, stride=1):\n",
        "    x = layers.Conv2D(filters, kernel_size, strides=stride, padding='same',\n",
        "                      kernel_regularizer=regularizers.l2(1e-4))(inputs)\n",
        "    x = layers.BatchNormalization()(x)\n",
        "    x = layers.ReLU()(x)\n",
        "    x = layers.Conv2D(filters, kernel_size, padding='same',\n",
        "                      kernel_regularizer=regularizers.l2(1e-4))(x)\n",
        "    x = layers.BatchNormalization()(x)\n",
        "\n",
        "    if stride != 1 or inputs.shape[-1] != filters:\n",
        "        shortcut = layers.Conv2D(filters, 1, strides=stride, padding='same')(inputs)\n",
        "        shortcut = layers.BatchNormalization()(shortcut)\n",
        "    else:\n",
        "        shortcut = inputs\n",
        "\n",
        "    x = layers.Add()([x, shortcut])\n",
        "    x = layers.ReLU()(x)\n",
        "    return x"
      ],
      "metadata": {
        "id": "Nh_lIK6s3bCB"
      },
      "execution_count": null,
      "outputs": []
    },
    {
      "cell_type": "code",
      "source": [
        "def build_resnet(input_shape=(128, 128, 3), num_classes=5, num_blocks=4):\n",
        "    inputs = layers.Input(shape=input_shape)\n",
        "    x = layers.Conv2D(16, 3, padding='same')(inputs)\n",
        "    x = layers.BatchNormalization()(x)\n",
        "    x = layers.ReLU()(x)\n",
        "\n",
        "    filters = 16\n",
        "    for i in range(num_blocks):\n",
        "        stride = 2 if i % 2 == 0 and i != 0 else 1\n",
        "        x = resnet_block(x, filters, stride=stride)\n",
        "        filters *= 2 if i % 2 == 0 and i != 0 else 1\n",
        "\n",
        "    x = layers.GlobalAveragePooling2D()(x)\n",
        "    x = layers.Dense(64, activation='relu')(x)\n",
        "    x = layers.Dropout(0.3)(x)\n",
        "    outputs = layers.Dense(num_classes, activation='softmax')(x)\n",
        "\n",
        "    model = models.Model(inputs, outputs)\n",
        "    return model\n"
      ],
      "metadata": {
        "id": "-k1N8ZeE3bX5"
      },
      "execution_count": null,
      "outputs": []
    },
    {
      "cell_type": "code",
      "source": [
        "model_resnet8 = build_resnet(num_blocks=4)"
      ],
      "metadata": {
        "id": "6MsIQG5r3czJ"
      },
      "execution_count": null,
      "outputs": []
    },
    {
      "cell_type": "code",
      "source": [
        "model_resnet8.compile(optimizer='adam',\n",
        "                      loss='sparse_categorical_crossentropy',\n",
        "                      metrics=['accuracy'])"
      ],
      "metadata": {
        "id": "RVuFCmKz5ozj"
      },
      "execution_count": null,
      "outputs": []
    },
    {
      "cell_type": "code",
      "source": [
        "early_stop = tf.keras.callbacks.EarlyStopping(patience=5, restore_best_weights=True)\n",
        "reduce_lr = tf.keras.callbacks.ReduceLROnPlateau(factor=0.5, patience=2)\n",
        "\n",
        "history = model_resnet8.fit(\n",
        "    train_generator,\n",
        "    validation_data=val_generator,\n",
        "    epochs=20,\n",
        "    callbacks=[early_stop, reduce_lr]\n",
        ")"
      ],
      "metadata": {
        "colab": {
          "base_uri": "https://localhost:8080/"
        },
        "id": "MGxbH0wN5otN",
        "outputId": "101e511c-93d8-4f38-b95c-0e7342a08013"
      },
      "execution_count": null,
      "outputs": [
        {
          "output_type": "stream",
          "name": "stderr",
          "text": [
            "/usr/local/lib/python3.11/dist-packages/keras/src/trainers/data_adapters/py_dataset_adapter.py:121: UserWarning: Your `PyDataset` class should call `super().__init__(**kwargs)` in its constructor. `**kwargs` can include `workers`, `use_multiprocessing`, `max_queue_size`. Do not pass these arguments to `fit()`, as they will be ignored.\n",
            "  self._warn_if_super_not_called()\n"
          ]
        },
        {
          "output_type": "stream",
          "name": "stdout",
          "text": [
            "Epoch 1/20\n",
            "\u001b[1m48/48\u001b[0m \u001b[32m━━━━━━━━━━━━━━━━━━━━\u001b[0m\u001b[37m\u001b[0m \u001b[1m521s\u001b[0m 11s/step - accuracy: 0.4532 - loss: 1.3064 - val_accuracy: 0.1936 - val_loss: 1.7996 - learning_rate: 0.0010\n",
            "Epoch 2/20\n",
            "\u001b[1m48/48\u001b[0m \u001b[32m━━━━━━━━━━━━━━━━━━━━\u001b[0m\u001b[37m\u001b[0m \u001b[1m68s\u001b[0m 1s/step - accuracy: 0.7160 - loss: 0.7530 - val_accuracy: 0.5332 - val_loss: 1.1797 - learning_rate: 0.0010\n",
            "Epoch 3/20\n",
            "\u001b[1m48/48\u001b[0m \u001b[32m━━━━━━━━━━━━━━━━━━━━\u001b[0m\u001b[37m\u001b[0m \u001b[1m67s\u001b[0m 1s/step - accuracy: 0.7853 - loss: 0.5897 - val_accuracy: 0.6340 - val_loss: 0.9799 - learning_rate: 0.0010\n",
            "Epoch 4/20\n",
            "\u001b[1m48/48\u001b[0m \u001b[32m━━━━━━━━━━━━━━━━━━━━\u001b[0m\u001b[37m\u001b[0m \u001b[1m67s\u001b[0m 1s/step - accuracy: 0.8081 - loss: 0.5376 - val_accuracy: 0.6101 - val_loss: 0.9049 - learning_rate: 0.0010\n",
            "Epoch 5/20\n",
            "\u001b[1m48/48\u001b[0m \u001b[32m━━━━━━━━━━━━━━━━━━━━\u001b[0m\u001b[37m\u001b[0m \u001b[1m68s\u001b[0m 1s/step - accuracy: 0.8467 - loss: 0.5069 - val_accuracy: 0.7135 - val_loss: 0.8749 - learning_rate: 0.0010\n",
            "Epoch 6/20\n",
            "\u001b[1m48/48\u001b[0m \u001b[32m━━━━━━━━━━━━━━━━━━━━\u001b[0m\u001b[37m\u001b[0m \u001b[1m68s\u001b[0m 1s/step - accuracy: 0.8244 - loss: 0.4998 - val_accuracy: 0.7003 - val_loss: 0.7715 - learning_rate: 0.0010\n",
            "Epoch 7/20\n",
            "\u001b[1m48/48\u001b[0m \u001b[32m━━━━━━━━━━━━━━━━━━━━\u001b[0m\u001b[37m\u001b[0m \u001b[1m68s\u001b[0m 1s/step - accuracy: 0.8423 - loss: 0.4660 - val_accuracy: 0.6207 - val_loss: 1.0677 - learning_rate: 0.0010\n",
            "Epoch 8/20\n",
            "\u001b[1m48/48\u001b[0m \u001b[32m━━━━━━━━━━━━━━━━━━━━\u001b[0m\u001b[37m\u001b[0m \u001b[1m67s\u001b[0m 1s/step - accuracy: 0.8423 - loss: 0.4678 - val_accuracy: 0.6419 - val_loss: 1.3424 - learning_rate: 0.0010\n",
            "Epoch 9/20\n",
            "\u001b[1m48/48\u001b[0m \u001b[32m━━━━━━━━━━━━━━━━━━━━\u001b[0m\u001b[37m\u001b[0m \u001b[1m66s\u001b[0m 1s/step - accuracy: 0.8622 - loss: 0.4376 - val_accuracy: 0.7003 - val_loss: 0.9476 - learning_rate: 5.0000e-04\n",
            "Epoch 10/20\n",
            "\u001b[1m48/48\u001b[0m \u001b[32m━━━━━━━━━━━━━━━━━━━━\u001b[0m\u001b[37m\u001b[0m \u001b[1m67s\u001b[0m 1s/step - accuracy: 0.8539 - loss: 0.4077 - val_accuracy: 0.7560 - val_loss: 0.8447 - learning_rate: 5.0000e-04\n",
            "Epoch 11/20\n",
            "\u001b[1m48/48\u001b[0m \u001b[32m━━━━━━━━━━━━━━━━━━━━\u001b[0m\u001b[37m\u001b[0m \u001b[1m68s\u001b[0m 1s/step - accuracy: 0.8914 - loss: 0.3472 - val_accuracy: 0.7878 - val_loss: 0.6009 - learning_rate: 2.5000e-04\n",
            "Epoch 12/20\n",
            "\u001b[1m48/48\u001b[0m \u001b[32m━━━━━━━━━━━━━━━━━━━━\u001b[0m\u001b[37m\u001b[0m \u001b[1m68s\u001b[0m 1s/step - accuracy: 0.8567 - loss: 0.3951 - val_accuracy: 0.7613 - val_loss: 0.7145 - learning_rate: 2.5000e-04\n",
            "Epoch 13/20\n",
            "\u001b[1m48/48\u001b[0m \u001b[32m━━━━━━━━━━━━━━━━━━━━\u001b[0m\u001b[37m\u001b[0m \u001b[1m67s\u001b[0m 1s/step - accuracy: 0.8778 - loss: 0.3452 - val_accuracy: 0.7268 - val_loss: 0.6909 - learning_rate: 2.5000e-04\n",
            "Epoch 14/20\n",
            "\u001b[1m48/48\u001b[0m \u001b[32m━━━━━━━━━━━━━━━━━━━━\u001b[0m\u001b[37m\u001b[0m \u001b[1m67s\u001b[0m 1s/step - accuracy: 0.8832 - loss: 0.3653 - val_accuracy: 0.7825 - val_loss: 0.5841 - learning_rate: 1.2500e-04\n",
            "Epoch 15/20\n",
            "\u001b[1m48/48\u001b[0m \u001b[32m━━━━━━━━━━━━━━━━━━━━\u001b[0m\u001b[37m\u001b[0m \u001b[1m67s\u001b[0m 1s/step - accuracy: 0.8762 - loss: 0.3581 - val_accuracy: 0.7692 - val_loss: 0.6856 - learning_rate: 1.2500e-04\n",
            "Epoch 16/20\n",
            "\u001b[1m48/48\u001b[0m \u001b[32m━━━━━━━━━━━━━━━━━━━━\u001b[0m\u001b[37m\u001b[0m \u001b[1m67s\u001b[0m 1s/step - accuracy: 0.8906 - loss: 0.3545 - val_accuracy: 0.7851 - val_loss: 0.6429 - learning_rate: 1.2500e-04\n",
            "Epoch 17/20\n",
            "\u001b[1m48/48\u001b[0m \u001b[32m━━━━━━━━━━━━━━━━━━━━\u001b[0m\u001b[37m\u001b[0m \u001b[1m67s\u001b[0m 1s/step - accuracy: 0.8789 - loss: 0.3325 - val_accuracy: 0.8090 - val_loss: 0.5269 - learning_rate: 6.2500e-05\n",
            "Epoch 18/20\n",
            "\u001b[1m48/48\u001b[0m \u001b[32m━━━━━━━━━━━━━━━━━━━━\u001b[0m\u001b[37m\u001b[0m \u001b[1m67s\u001b[0m 1s/step - accuracy: 0.9007 - loss: 0.3059 - val_accuracy: 0.7984 - val_loss: 0.5870 - learning_rate: 6.2500e-05\n",
            "Epoch 19/20\n",
            "\u001b[1m48/48\u001b[0m \u001b[32m━━━━━━━━━━━━━━━━━━━━\u001b[0m\u001b[37m\u001b[0m \u001b[1m66s\u001b[0m 1s/step - accuracy: 0.8868 - loss: 0.3207 - val_accuracy: 0.8302 - val_loss: 0.5134 - learning_rate: 6.2500e-05\n",
            "Epoch 20/20\n",
            "\u001b[1m48/48\u001b[0m \u001b[32m━━━━━━━━━━━━━━━━━━━━\u001b[0m\u001b[37m\u001b[0m \u001b[1m67s\u001b[0m 1s/step - accuracy: 0.8747 - loss: 0.3586 - val_accuracy: 0.8170 - val_loss: 0.5471 - learning_rate: 6.2500e-05\n"
          ]
        }
      ]
    },
    {
      "cell_type": "code",
      "source": [
        "model_resnet8.save(\"resnet8_model.keras\")"
      ],
      "metadata": {
        "id": "DuZo8HS55obP"
      },
      "execution_count": null,
      "outputs": []
    },
    {
      "cell_type": "code",
      "source": [
        "model_resnet8.export(\"resnet8_saved_model\")"
      ],
      "metadata": {
        "colab": {
          "base_uri": "https://localhost:8080/"
        },
        "id": "J7MLixq454wb",
        "outputId": "539cf81b-621a-4368-ddc4-b59a0fe0d5ea"
      },
      "execution_count": null,
      "outputs": [
        {
          "output_type": "stream",
          "name": "stdout",
          "text": [
            "Saved artifact at 'resnet8_saved_model'. The following endpoints are available:\n",
            "\n",
            "* Endpoint 'serve'\n",
            "  args_0 (POSITIONAL_ONLY): TensorSpec(shape=(None, 128, 128, 3), dtype=tf.float32, name='keras_tensor')\n",
            "Output Type:\n",
            "  TensorSpec(shape=(None, 5), dtype=tf.float32, name=None)\n",
            "Captures:\n",
            "  138928598229712: TensorSpec(shape=(), dtype=tf.resource, name=None)\n",
            "  138928598230096: TensorSpec(shape=(), dtype=tf.resource, name=None)\n",
            "  138923416313808: TensorSpec(shape=(), dtype=tf.resource, name=None)\n",
            "  138928598229520: TensorSpec(shape=(), dtype=tf.resource, name=None)\n",
            "  138923416315152: TensorSpec(shape=(), dtype=tf.resource, name=None)\n",
            "  138923416313040: TensorSpec(shape=(), dtype=tf.resource, name=None)\n",
            "  138928598223568: TensorSpec(shape=(), dtype=tf.resource, name=None)\n",
            "  138923416313232: TensorSpec(shape=(), dtype=tf.resource, name=None)\n",
            "  138923416314000: TensorSpec(shape=(), dtype=tf.resource, name=None)\n",
            "  138923416313424: TensorSpec(shape=(), dtype=tf.resource, name=None)\n",
            "  138923416315728: TensorSpec(shape=(), dtype=tf.resource, name=None)\n",
            "  138923416313616: TensorSpec(shape=(), dtype=tf.resource, name=None)\n",
            "  138923416312464: TensorSpec(shape=(), dtype=tf.resource, name=None)\n",
            "  138923416311120: TensorSpec(shape=(), dtype=tf.resource, name=None)\n",
            "  138923416316304: TensorSpec(shape=(), dtype=tf.resource, name=None)\n",
            "  138923416308240: TensorSpec(shape=(), dtype=tf.resource, name=None)\n",
            "  138923416311504: TensorSpec(shape=(), dtype=tf.resource, name=None)\n",
            "  138923416311696: TensorSpec(shape=(), dtype=tf.resource, name=None)\n",
            "  138923416318416: TensorSpec(shape=(), dtype=tf.resource, name=None)\n",
            "  138923416319952: TensorSpec(shape=(), dtype=tf.resource, name=None)\n",
            "  138923416320336: TensorSpec(shape=(), dtype=tf.resource, name=None)\n",
            "  138923416318992: TensorSpec(shape=(), dtype=tf.resource, name=None)\n",
            "  138923416320144: TensorSpec(shape=(), dtype=tf.resource, name=None)\n",
            "  138923416319376: TensorSpec(shape=(), dtype=tf.resource, name=None)\n",
            "  138923416318608: TensorSpec(shape=(), dtype=tf.resource, name=None)\n",
            "  138922798661904: TensorSpec(shape=(), dtype=tf.resource, name=None)\n",
            "  138923416321104: TensorSpec(shape=(), dtype=tf.resource, name=None)\n",
            "  138923416321488: TensorSpec(shape=(), dtype=tf.resource, name=None)\n",
            "  138922798662864: TensorSpec(shape=(), dtype=tf.resource, name=None)\n",
            "  138923416321872: TensorSpec(shape=(), dtype=tf.resource, name=None)\n",
            "  138922798664016: TensorSpec(shape=(), dtype=tf.resource, name=None)\n",
            "  138922798664784: TensorSpec(shape=(), dtype=tf.resource, name=None)\n",
            "  138922798664976: TensorSpec(shape=(), dtype=tf.resource, name=None)\n",
            "  138922798663632: TensorSpec(shape=(), dtype=tf.resource, name=None)\n",
            "  138922798662672: TensorSpec(shape=(), dtype=tf.resource, name=None)\n",
            "  138922798664592: TensorSpec(shape=(), dtype=tf.resource, name=None)\n",
            "  138922798668816: TensorSpec(shape=(), dtype=tf.resource, name=None)\n",
            "  138922798669392: TensorSpec(shape=(), dtype=tf.resource, name=None)\n",
            "  138922798666512: TensorSpec(shape=(), dtype=tf.resource, name=None)\n",
            "  138922798667088: TensorSpec(shape=(), dtype=tf.resource, name=None)\n",
            "  138922798667280: TensorSpec(shape=(), dtype=tf.resource, name=None)\n",
            "  138922798666128: TensorSpec(shape=(), dtype=tf.resource, name=None)\n",
            "  138922798663824: TensorSpec(shape=(), dtype=tf.resource, name=None)\n",
            "  138922798666896: TensorSpec(shape=(), dtype=tf.resource, name=None)\n",
            "  138922798669584: TensorSpec(shape=(), dtype=tf.resource, name=None)\n",
            "  138922798668432: TensorSpec(shape=(), dtype=tf.resource, name=None)\n",
            "  138922798661712: TensorSpec(shape=(), dtype=tf.resource, name=None)\n",
            "  138922798669200: TensorSpec(shape=(), dtype=tf.resource, name=None)\n",
            "  138922798665360: TensorSpec(shape=(), dtype=tf.resource, name=None)\n",
            "  138922798671888: TensorSpec(shape=(), dtype=tf.resource, name=None)\n",
            "  138922798672080: TensorSpec(shape=(), dtype=tf.resource, name=None)\n",
            "  138922798671312: TensorSpec(shape=(), dtype=tf.resource, name=None)\n",
            "  138922798668048: TensorSpec(shape=(), dtype=tf.resource, name=None)\n",
            "  138922798671696: TensorSpec(shape=(), dtype=tf.resource, name=None)\n",
            "  138922798676112: TensorSpec(shape=(), dtype=tf.resource, name=None)\n",
            "  138922798676688: TensorSpec(shape=(), dtype=tf.resource, name=None)\n",
            "  138922798669968: TensorSpec(shape=(), dtype=tf.resource, name=None)\n",
            "  138922798674384: TensorSpec(shape=(), dtype=tf.resource, name=None)\n",
            "  138922798674576: TensorSpec(shape=(), dtype=tf.resource, name=None)\n",
            "  138922798673808: TensorSpec(shape=(), dtype=tf.resource, name=None)\n",
            "  138922798671120: TensorSpec(shape=(), dtype=tf.resource, name=None)\n",
            "  138922798674192: TensorSpec(shape=(), dtype=tf.resource, name=None)\n",
            "  138922798676880: TensorSpec(shape=(), dtype=tf.resource, name=None)\n",
            "  138922798677648: TensorSpec(shape=(), dtype=tf.resource, name=None)\n",
            "  138922798672464: TensorSpec(shape=(), dtype=tf.resource, name=None)\n",
            "  138922798676496: TensorSpec(shape=(), dtype=tf.resource, name=None)\n",
            "  138922798675344: TensorSpec(shape=(), dtype=tf.resource, name=None)\n",
            "  138922798677264: TensorSpec(shape=(), dtype=tf.resource, name=None)\n",
            "  138922799022544: TensorSpec(shape=(), dtype=tf.resource, name=None)\n",
            "  138922799024272: TensorSpec(shape=(), dtype=tf.resource, name=None)\n"
          ]
        }
      ]
    },
    {
      "cell_type": "markdown",
      "source": [
        "# ResNet10"
      ],
      "metadata": {
        "id": "1qSVa5_cZ6ur"
      }
    },
    {
      "cell_type": "code",
      "source": [
        "model_resnet10 = build_resnet(num_blocks=5)"
      ],
      "metadata": {
        "id": "dlz6qS3i5QU2"
      },
      "execution_count": null,
      "outputs": []
    },
    {
      "cell_type": "code",
      "source": [
        "model_resnet10.compile(optimizer='adam',\n",
        "                      loss='sparse_categorical_crossentropy',\n",
        "                      metrics=['accuracy'])"
      ],
      "metadata": {
        "id": "I33nYUW-5_fz"
      },
      "execution_count": null,
      "outputs": []
    },
    {
      "cell_type": "code",
      "source": [
        "early_stop = tf.keras.callbacks.EarlyStopping(patience=5, restore_best_weights=True)\n",
        "reduce_lr = tf.keras.callbacks.ReduceLROnPlateau(factor=0.5, patience=2)\n",
        "\n",
        "history = model_resnet8.fit(\n",
        "    train_generator,\n",
        "    validation_data=val_generator,\n",
        "    epochs=20,\n",
        "    callbacks=[early_stop, reduce_lr]\n",
        ")"
      ],
      "metadata": {
        "colab": {
          "base_uri": "https://localhost:8080/"
        },
        "id": "Ddg6tkNk6HsS",
        "outputId": "844bec0b-ea21-425f-eb87-6c1714a1b57f"
      },
      "execution_count": null,
      "outputs": [
        {
          "output_type": "stream",
          "name": "stdout",
          "text": [
            "Epoch 1/20\n",
            "\u001b[1m48/48\u001b[0m \u001b[32m━━━━━━━━━━━━━━━━━━━━\u001b[0m\u001b[37m\u001b[0m \u001b[1m69s\u001b[0m 1s/step - accuracy: 0.8811 - loss: 0.3420 - val_accuracy: 0.7905 - val_loss: 0.6329 - learning_rate: 3.1250e-05\n",
            "Epoch 2/20\n",
            "\u001b[1m48/48\u001b[0m \u001b[32m━━━━━━━━━━━━━━━━━━━━\u001b[0m\u001b[37m\u001b[0m \u001b[1m68s\u001b[0m 1s/step - accuracy: 0.8837 - loss: 0.3007 - val_accuracy: 0.7931 - val_loss: 0.6621 - learning_rate: 3.1250e-05\n",
            "Epoch 3/20\n",
            "\u001b[1m48/48\u001b[0m \u001b[32m━━━━━━━━━━━━━━━━━━━━\u001b[0m\u001b[37m\u001b[0m \u001b[1m68s\u001b[0m 1s/step - accuracy: 0.8962 - loss: 0.2971 - val_accuracy: 0.7958 - val_loss: 0.6386 - learning_rate: 3.1250e-05\n",
            "Epoch 4/20\n",
            "\u001b[1m48/48\u001b[0m \u001b[32m━━━━━━━━━━━━━━━━━━━━\u001b[0m\u001b[37m\u001b[0m \u001b[1m68s\u001b[0m 1s/step - accuracy: 0.9055 - loss: 0.2934 - val_accuracy: 0.7851 - val_loss: 0.6494 - learning_rate: 1.5625e-05\n",
            "Epoch 5/20\n",
            "\u001b[1m48/48\u001b[0m \u001b[32m━━━━━━━━━━━━━━━━━━━━\u001b[0m\u001b[37m\u001b[0m \u001b[1m68s\u001b[0m 1s/step - accuracy: 0.8955 - loss: 0.3108 - val_accuracy: 0.7984 - val_loss: 0.6183 - learning_rate: 1.5625e-05\n",
            "Epoch 6/20\n",
            "\u001b[1m48/48\u001b[0m \u001b[32m━━━━━━━━━━━━━━━━━━━━\u001b[0m\u001b[37m\u001b[0m \u001b[1m66s\u001b[0m 1s/step - accuracy: 0.9113 - loss: 0.2855 - val_accuracy: 0.8037 - val_loss: 0.6146 - learning_rate: 1.5625e-05\n",
            "Epoch 7/20\n",
            "\u001b[1m48/48\u001b[0m \u001b[32m━━━━━━━━━━━━━━━━━━━━\u001b[0m\u001b[37m\u001b[0m \u001b[1m69s\u001b[0m 1s/step - accuracy: 0.8980 - loss: 0.3183 - val_accuracy: 0.8117 - val_loss: 0.6471 - learning_rate: 1.5625e-05\n",
            "Epoch 8/20\n",
            "\u001b[1m48/48\u001b[0m \u001b[32m━━━━━━━━━━━━━━━━━━━━\u001b[0m\u001b[37m\u001b[0m \u001b[1m68s\u001b[0m 1s/step - accuracy: 0.8849 - loss: 0.3202 - val_accuracy: 0.8143 - val_loss: 0.6175 - learning_rate: 1.5625e-05\n",
            "Epoch 9/20\n",
            "\u001b[1m48/48\u001b[0m \u001b[32m━━━━━━━━━━━━━━━━━━━━\u001b[0m\u001b[37m\u001b[0m \u001b[1m69s\u001b[0m 1s/step - accuracy: 0.8969 - loss: 0.3109 - val_accuracy: 0.8064 - val_loss: 0.6455 - learning_rate: 7.8125e-06\n",
            "Epoch 10/20\n",
            "\u001b[1m48/48\u001b[0m \u001b[32m━━━━━━━━━━━━━━━━━━━━\u001b[0m\u001b[37m\u001b[0m \u001b[1m67s\u001b[0m 1s/step - accuracy: 0.8955 - loss: 0.2936 - val_accuracy: 0.7825 - val_loss: 0.6691 - learning_rate: 7.8125e-06\n",
            "Epoch 11/20\n",
            "\u001b[1m48/48\u001b[0m \u001b[32m━━━━━━━━━━━━━━━━━━━━\u001b[0m\u001b[37m\u001b[0m \u001b[1m68s\u001b[0m 1s/step - accuracy: 0.8882 - loss: 0.3163 - val_accuracy: 0.8090 - val_loss: 0.6065 - learning_rate: 3.9063e-06\n",
            "Epoch 12/20\n",
            "\u001b[1m48/48\u001b[0m \u001b[32m━━━━━━━━━━━━━━━━━━━━\u001b[0m\u001b[37m\u001b[0m \u001b[1m68s\u001b[0m 1s/step - accuracy: 0.9066 - loss: 0.2903 - val_accuracy: 0.8064 - val_loss: 0.6282 - learning_rate: 3.9063e-06\n",
            "Epoch 13/20\n",
            "\u001b[1m48/48\u001b[0m \u001b[32m━━━━━━━━━━━━━━━━━━━━\u001b[0m\u001b[37m\u001b[0m \u001b[1m69s\u001b[0m 1s/step - accuracy: 0.8739 - loss: 0.3452 - val_accuracy: 0.7905 - val_loss: 0.6788 - learning_rate: 3.9063e-06\n",
            "Epoch 14/20\n",
            "\u001b[1m48/48\u001b[0m \u001b[32m━━━━━━━━━━━━━━━━━━━━\u001b[0m\u001b[37m\u001b[0m \u001b[1m68s\u001b[0m 1s/step - accuracy: 0.8659 - loss: 0.3541 - val_accuracy: 0.8143 - val_loss: 0.5974 - learning_rate: 1.9531e-06\n",
            "Epoch 15/20\n",
            "\u001b[1m48/48\u001b[0m \u001b[32m━━━━━━━━━━━━━━━━━━━━\u001b[0m\u001b[37m\u001b[0m \u001b[1m67s\u001b[0m 1s/step - accuracy: 0.9011 - loss: 0.3175 - val_accuracy: 0.7984 - val_loss: 0.7026 - learning_rate: 1.9531e-06\n",
            "Epoch 16/20\n",
            "\u001b[1m48/48\u001b[0m \u001b[32m━━━━━━━━━━━━━━━━━━━━\u001b[0m\u001b[37m\u001b[0m \u001b[1m67s\u001b[0m 1s/step - accuracy: 0.8876 - loss: 0.3098 - val_accuracy: 0.7825 - val_loss: 0.7095 - learning_rate: 1.9531e-06\n",
            "Epoch 17/20\n",
            "\u001b[1m48/48\u001b[0m \u001b[32m━━━━━━━━━━━━━━━━━━━━\u001b[0m\u001b[37m\u001b[0m \u001b[1m68s\u001b[0m 1s/step - accuracy: 0.9068 - loss: 0.3063 - val_accuracy: 0.7905 - val_loss: 0.6111 - learning_rate: 9.7656e-07\n",
            "Epoch 18/20\n",
            "\u001b[1m48/48\u001b[0m \u001b[32m━━━━━━━━━━━━━━━━━━━━\u001b[0m\u001b[37m\u001b[0m \u001b[1m68s\u001b[0m 1s/step - accuracy: 0.9019 - loss: 0.2936 - val_accuracy: 0.7931 - val_loss: 0.6129 - learning_rate: 9.7656e-07\n",
            "Epoch 19/20\n",
            "\u001b[1m48/48\u001b[0m \u001b[32m━━━━━━━━━━━━━━━━━━━━\u001b[0m\u001b[37m\u001b[0m \u001b[1m67s\u001b[0m 1s/step - accuracy: 0.8880 - loss: 0.3165 - val_accuracy: 0.8037 - val_loss: 0.6445 - learning_rate: 4.8828e-07\n"
          ]
        }
      ]
    },
    {
      "cell_type": "code",
      "source": [
        "model_resnet10.save(\"resnet10_model.keras\")"
      ],
      "metadata": {
        "id": "qatni_mY6Hf0"
      },
      "execution_count": null,
      "outputs": []
    },
    {
      "cell_type": "code",
      "source": [
        "model_resnet10.export(\"resnet10_saved_model\")"
      ],
      "metadata": {
        "colab": {
          "base_uri": "https://localhost:8080/"
        },
        "id": "UgvNTBR86QWN",
        "outputId": "db30c955-41c6-41d2-ce57-7129fa4f38cf"
      },
      "execution_count": null,
      "outputs": [
        {
          "output_type": "stream",
          "name": "stdout",
          "text": [
            "Saved artifact at 'tinycnn_saved_model'. The following endpoints are available:\n",
            "\n",
            "* Endpoint 'serve'\n",
            "  args_0 (POSITIONAL_ONLY): TensorSpec(shape=(None, 128, 128, 3), dtype=tf.float32, name='keras_tensor_645')\n",
            "Output Type:\n",
            "  TensorSpec(shape=(None, 5), dtype=tf.float32, name=None)\n",
            "Captures:\n",
            "  134282294136272: TensorSpec(shape=(), dtype=tf.resource, name=None)\n",
            "  134282294148368: TensorSpec(shape=(), dtype=tf.resource, name=None)\n",
            "  134282294147216: TensorSpec(shape=(), dtype=tf.resource, name=None)\n",
            "  134282294136080: TensorSpec(shape=(), dtype=tf.resource, name=None)\n",
            "  134282294148944: TensorSpec(shape=(), dtype=tf.resource, name=None)\n",
            "  134282294137040: TensorSpec(shape=(), dtype=tf.resource, name=None)\n",
            "  134282294134736: TensorSpec(shape=(), dtype=tf.resource, name=None)\n",
            "  134282288735888: TensorSpec(shape=(), dtype=tf.resource, name=None)\n"
          ]
        }
      ]
    },
    {
      "cell_type": "markdown",
      "source": [
        "# Quantization"
      ],
      "metadata": {
        "id": "UV9LoRln3Pmt"
      }
    },
    {
      "cell_type": "markdown",
      "source": [
        "## Initiation"
      ],
      "metadata": {
        "id": "rYyeEs0UaA0E"
      }
    },
    {
      "cell_type": "code",
      "source": [
        "def representative_data_gen():\n",
        "    for _ in range(100):\n",
        "        images, _ = next(train_generator)  # Use next() to get a batch\n",
        "        yield [tf.cast(images, tf.float32)]"
      ],
      "metadata": {
        "id": "y2po_qw9RpeL"
      },
      "execution_count": null,
      "outputs": []
    },
    {
      "cell_type": "markdown",
      "source": [
        "## MobileNet"
      ],
      "metadata": {
        "id": "WAA8KAXUaFkj"
      }
    },
    {
      "cell_type": "code",
      "source": [
        "converter = tf.lite.TFLiteConverter.from_saved_model(\"mobilenet_saved_model\")\n",
        "converter.optimizations = [tf.lite.Optimize.DEFAULT]\n",
        "converter.representative_dataset = representative_data_gen"
      ],
      "metadata": {
        "id": "54-hJJBTZvWX"
      },
      "execution_count": null,
      "outputs": []
    },
    {
      "cell_type": "code",
      "source": [
        "converter.target_spec.supported_ops = [tf.lite.OpsSet.TFLITE_BUILTINS_INT8]\n",
        "converter.inference_input_type = tf.uint8\n",
        "converter.inference_output_type = tf.uint8"
      ],
      "metadata": {
        "id": "sUUbIN3PRrvT"
      },
      "execution_count": null,
      "outputs": []
    },
    {
      "cell_type": "code",
      "source": [
        "tflite_model = converter.convert()"
      ],
      "metadata": {
        "id": "RBF7iRvbR4Ua"
      },
      "execution_count": null,
      "outputs": []
    },
    {
      "cell_type": "code",
      "source": [
        "with open(\"mobilenet_int8_quant.tflite\", \"wb\") as f:\n",
        "    f.write(tflite_model)"
      ],
      "metadata": {
        "id": "vPJZ0-LdR8Vm"
      },
      "execution_count": null,
      "outputs": []
    },
    {
      "cell_type": "markdown",
      "source": [
        "## TinyCNN"
      ],
      "metadata": {
        "id": "pJKuMwXtabks"
      }
    },
    {
      "cell_type": "code",
      "source": [
        "converter = tf.lite.TFLiteConverter.from_saved_model(\"tinycnn_saved_model\")\n",
        "converter.optimizations = [tf.lite.Optimize.DEFAULT]\n",
        "converter.representative_dataset = representative_data_gen"
      ],
      "metadata": {
        "id": "dPi-ddytWa1j"
      },
      "execution_count": null,
      "outputs": []
    },
    {
      "cell_type": "code",
      "source": [
        "converter.target_spec.supported_ops = [tf.lite.OpsSet.TFLITE_BUILTINS_INT8]\n",
        "converter.inference_input_type = tf.uint8\n",
        "converter.inference_output_type = tf.uint8"
      ],
      "metadata": {
        "id": "L3jbe18lXTaP"
      },
      "execution_count": null,
      "outputs": []
    },
    {
      "cell_type": "code",
      "source": [
        "tflite_model = converter.convert()"
      ],
      "metadata": {
        "id": "bH_YmwHRXXam"
      },
      "execution_count": null,
      "outputs": []
    },
    {
      "cell_type": "code",
      "source": [
        "with open(\"tinycnn_int8_quant.tflite\", \"wb\") as f:\n",
        "    f.write(tflite_model)"
      ],
      "metadata": {
        "id": "SiMP4zMLXabl"
      },
      "execution_count": null,
      "outputs": []
    },
    {
      "cell_type": "markdown",
      "source": [
        "## MobileNet Keras"
      ],
      "metadata": {
        "id": "G3EAaGG8aebv"
      }
    },
    {
      "cell_type": "code",
      "source": [
        "model = tf.keras.models.load_model(\"mobilenet_model.keras\")"
      ],
      "metadata": {
        "colab": {
          "base_uri": "https://localhost:8080/"
        },
        "id": "bhOZMVI0Xexw",
        "outputId": "e222511b-ae71-4360-d289-ed23df7780c8"
      },
      "execution_count": null,
      "outputs": [
        {
          "output_type": "stream",
          "name": "stderr",
          "text": [
            "/usr/local/lib/python3.11/dist-packages/keras/src/saving/saving_lib.py:757: UserWarning: Skipping variable loading for optimizer 'adam', because it has 74 variables whereas the saved optimizer has 10 variables. \n",
            "  saveable.load_own_variables(weights_store.get(inner_path))\n"
          ]
        }
      ]
    },
    {
      "cell_type": "code",
      "source": [
        "converter = tf.lite.TFLiteConverter.from_keras_model(model)\n",
        "converter.optimizations = [tf.lite.Optimize.DEFAULT]\n",
        "converter.representative_dataset = representative_data_gen\n",
        "converter.target_spec.supported_ops = [tf.lite.OpsSet.TFLITE_BUILTINS_INT8]"
      ],
      "metadata": {
        "id": "5nB8LxX7Yy_-"
      },
      "execution_count": null,
      "outputs": []
    },
    {
      "cell_type": "code",
      "source": [
        "converter.inference_input_type = tf.int8\n",
        "converter.inference_output_type = tf.int8"
      ],
      "metadata": {
        "id": "f1aujRfnY-rT"
      },
      "execution_count": null,
      "outputs": []
    },
    {
      "cell_type": "code",
      "source": [
        "tflite_model = converter.convert()"
      ],
      "metadata": {
        "colab": {
          "base_uri": "https://localhost:8080/"
        },
        "id": "aYP4RaeYZCKN",
        "outputId": "8f4c738c-1d78-4aac-f8ad-c8ce9420bd1e",
        "collapsed": true
      },
      "execution_count": null,
      "outputs": [
        {
          "output_type": "stream",
          "name": "stdout",
          "text": [
            "Saved artifact at '/tmp/tmpfv4edpu9'. The following endpoints are available:\n",
            "\n",
            "* Endpoint 'serve'\n",
            "  args_0 (POSITIONAL_ONLY): TensorSpec(shape=(None, 224, 224, 3), dtype=tf.float32, name='input_layer_1')\n",
            "Output Type:\n",
            "  TensorSpec(shape=(None, 5), dtype=tf.float32, name=None)\n",
            "Captures:\n",
            "  135527764773968: TensorSpec(shape=(), dtype=tf.resource, name=None)\n",
            "  135527764772240: TensorSpec(shape=(), dtype=tf.resource, name=None)\n",
            "  135527764774352: TensorSpec(shape=(), dtype=tf.resource, name=None)\n",
            "  135527764774160: TensorSpec(shape=(), dtype=tf.resource, name=None)\n",
            "  135527764773776: TensorSpec(shape=(), dtype=tf.resource, name=None)\n",
            "  135527764773200: TensorSpec(shape=(), dtype=tf.resource, name=None)\n",
            "  135527764776464: TensorSpec(shape=(), dtype=tf.resource, name=None)\n",
            "  135527764777424: TensorSpec(shape=(), dtype=tf.resource, name=None)\n",
            "  135527764775888: TensorSpec(shape=(), dtype=tf.resource, name=None)\n",
            "  135527764771088: TensorSpec(shape=(), dtype=tf.resource, name=None)\n",
            "  135527764778576: TensorSpec(shape=(), dtype=tf.resource, name=None)\n",
            "  135527764777808: TensorSpec(shape=(), dtype=tf.resource, name=None)\n",
            "  135527764778768: TensorSpec(shape=(), dtype=tf.resource, name=None)\n",
            "  135527764778000: TensorSpec(shape=(), dtype=tf.resource, name=None)\n",
            "  135527764776272: TensorSpec(shape=(), dtype=tf.resource, name=None)\n",
            "  135527764781264: TensorSpec(shape=(), dtype=tf.resource, name=None)\n",
            "  135527764780496: TensorSpec(shape=(), dtype=tf.resource, name=None)\n",
            "  135527764780880: TensorSpec(shape=(), dtype=tf.resource, name=None)\n",
            "  135527764781072: TensorSpec(shape=(), dtype=tf.resource, name=None)\n",
            "  135527764776656: TensorSpec(shape=(), dtype=tf.resource, name=None)\n",
            "  135527764782800: TensorSpec(shape=(), dtype=tf.resource, name=None)\n",
            "  135527764782992: TensorSpec(shape=(), dtype=tf.resource, name=None)\n",
            "  135527764783952: TensorSpec(shape=(), dtype=tf.resource, name=None)\n",
            "  135527764783184: TensorSpec(shape=(), dtype=tf.resource, name=None)\n",
            "  135527764777040: TensorSpec(shape=(), dtype=tf.resource, name=None)\n",
            "  135527764785296: TensorSpec(shape=(), dtype=tf.resource, name=None)\n",
            "  135527764785104: TensorSpec(shape=(), dtype=tf.resource, name=None)\n",
            "  135527764786064: TensorSpec(shape=(), dtype=tf.resource, name=None)\n",
            "  135527764784528: TensorSpec(shape=(), dtype=tf.resource, name=None)\n",
            "  135527764779536: TensorSpec(shape=(), dtype=tf.resource, name=None)\n",
            "  135527764786640: TensorSpec(shape=(), dtype=tf.resource, name=None)\n",
            "  135527764784720: TensorSpec(shape=(), dtype=tf.resource, name=None)\n",
            "  135527764779152: TensorSpec(shape=(), dtype=tf.resource, name=None)\n",
            "  135527764782608: TensorSpec(shape=(), dtype=tf.resource, name=None)\n",
            "  135527764782032: TensorSpec(shape=(), dtype=tf.resource, name=None)\n",
            "  135527764771280: TensorSpec(shape=(), dtype=tf.resource, name=None)\n",
            "  135527764775696: TensorSpec(shape=(), dtype=tf.resource, name=None)\n",
            "  135528169877392: TensorSpec(shape=(), dtype=tf.resource, name=None)\n",
            "  135527764774736: TensorSpec(shape=(), dtype=tf.resource, name=None)\n",
            "  135527764785680: TensorSpec(shape=(), dtype=tf.resource, name=None)\n",
            "  135528169872400: TensorSpec(shape=(), dtype=tf.resource, name=None)\n",
            "  135528169875088: TensorSpec(shape=(), dtype=tf.resource, name=None)\n",
            "  135528169865296: TensorSpec(shape=(), dtype=tf.resource, name=None)\n",
            "  135528169871248: TensorSpec(shape=(), dtype=tf.resource, name=None)\n",
            "  135528169881424: TensorSpec(shape=(), dtype=tf.resource, name=None)\n",
            "  135528169879504: TensorSpec(shape=(), dtype=tf.resource, name=None)\n",
            "  135528169878736: TensorSpec(shape=(), dtype=tf.resource, name=None)\n",
            "  135528169877968: TensorSpec(shape=(), dtype=tf.resource, name=None)\n",
            "  135528169878160: TensorSpec(shape=(), dtype=tf.resource, name=None)\n",
            "  135528169878928: TensorSpec(shape=(), dtype=tf.resource, name=None)\n",
            "  135528169873552: TensorSpec(shape=(), dtype=tf.resource, name=None)\n",
            "  135528169873744: TensorSpec(shape=(), dtype=tf.resource, name=None)\n",
            "  135528169871824: TensorSpec(shape=(), dtype=tf.resource, name=None)\n",
            "  135528169871632: TensorSpec(shape=(), dtype=tf.resource, name=None)\n",
            "  135528169878544: TensorSpec(shape=(), dtype=tf.resource, name=None)\n",
            "  135528169880272: TensorSpec(shape=(), dtype=tf.resource, name=None)\n",
            "  135528169880848: TensorSpec(shape=(), dtype=tf.resource, name=None)\n",
            "  135528169876240: TensorSpec(shape=(), dtype=tf.resource, name=None)\n",
            "  135528169879888: TensorSpec(shape=(), dtype=tf.resource, name=None)\n",
            "  135528169879696: TensorSpec(shape=(), dtype=tf.resource, name=None)\n",
            "  135528169875472: TensorSpec(shape=(), dtype=tf.resource, name=None)\n",
            "  135528169873360: TensorSpec(shape=(), dtype=tf.resource, name=None)\n",
            "  135528169873168: TensorSpec(shape=(), dtype=tf.resource, name=None)\n",
            "  135528169873936: TensorSpec(shape=(), dtype=tf.resource, name=None)\n",
            "  135528169872784: TensorSpec(shape=(), dtype=tf.resource, name=None)\n",
            "  135528169870288: TensorSpec(shape=(), dtype=tf.resource, name=None)\n",
            "  135528169870672: TensorSpec(shape=(), dtype=tf.resource, name=None)\n",
            "  135528169869328: TensorSpec(shape=(), dtype=tf.resource, name=None)\n",
            "  135528169870096: TensorSpec(shape=(), dtype=tf.resource, name=None)\n",
            "  135528169880656: TensorSpec(shape=(), dtype=tf.resource, name=None)\n",
            "  135528169868944: TensorSpec(shape=(), dtype=tf.resource, name=None)\n",
            "  135528169868176: TensorSpec(shape=(), dtype=tf.resource, name=None)\n",
            "  135528169865872: TensorSpec(shape=(), dtype=tf.resource, name=None)\n",
            "  135528169867792: TensorSpec(shape=(), dtype=tf.resource, name=None)\n",
            "  135528169875280: TensorSpec(shape=(), dtype=tf.resource, name=None)\n",
            "  135528169866832: TensorSpec(shape=(), dtype=tf.resource, name=None)\n",
            "  135528169866064: TensorSpec(shape=(), dtype=tf.resource, name=None)\n",
            "  135534203661456: TensorSpec(shape=(), dtype=tf.resource, name=None)\n",
            "  135528169866640: TensorSpec(shape=(), dtype=tf.resource, name=None)\n",
            "  135528169868560: TensorSpec(shape=(), dtype=tf.resource, name=None)\n",
            "  135528169877584: TensorSpec(shape=(), dtype=tf.resource, name=None)\n",
            "  135528167419792: TensorSpec(shape=(), dtype=tf.resource, name=None)\n",
            "  135528167414032: TensorSpec(shape=(), dtype=tf.resource, name=None)\n",
            "  135528169871056: TensorSpec(shape=(), dtype=tf.resource, name=None)\n",
            "  135528167416720: TensorSpec(shape=(), dtype=tf.resource, name=None)\n",
            "  135528167409232: TensorSpec(shape=(), dtype=tf.resource, name=None)\n",
            "  135528167413072: TensorSpec(shape=(), dtype=tf.resource, name=None)\n",
            "  135528167412880: TensorSpec(shape=(), dtype=tf.resource, name=None)\n",
            "  135528167414416: TensorSpec(shape=(), dtype=tf.resource, name=None)\n",
            "  135528167410192: TensorSpec(shape=(), dtype=tf.resource, name=None)\n",
            "  135528167413264: TensorSpec(shape=(), dtype=tf.resource, name=None)\n",
            "  135528167410384: TensorSpec(shape=(), dtype=tf.resource, name=None)\n",
            "  135528167411728: TensorSpec(shape=(), dtype=tf.resource, name=None)\n",
            "  135528167412112: TensorSpec(shape=(), dtype=tf.resource, name=None)\n",
            "  135528167415184: TensorSpec(shape=(), dtype=tf.resource, name=None)\n",
            "  135528167409808: TensorSpec(shape=(), dtype=tf.resource, name=None)\n",
            "  135528167415952: TensorSpec(shape=(), dtype=tf.resource, name=None)\n",
            "  135528167416336: TensorSpec(shape=(), dtype=tf.resource, name=None)\n",
            "  135528167415760: TensorSpec(shape=(), dtype=tf.resource, name=None)\n",
            "  135528167423824: TensorSpec(shape=(), dtype=tf.resource, name=None)\n",
            "  135528167423056: TensorSpec(shape=(), dtype=tf.resource, name=None)\n",
            "  135528167417104: TensorSpec(shape=(), dtype=tf.resource, name=None)\n",
            "  135528167421328: TensorSpec(shape=(), dtype=tf.resource, name=None)\n",
            "  135528167417296: TensorSpec(shape=(), dtype=tf.resource, name=None)\n",
            "  135528167414800: TensorSpec(shape=(), dtype=tf.resource, name=None)\n",
            "  135528167420368: TensorSpec(shape=(), dtype=tf.resource, name=None)\n",
            "  135528167420560: TensorSpec(shape=(), dtype=tf.resource, name=None)\n",
            "  135528167418640: TensorSpec(shape=(), dtype=tf.resource, name=None)\n",
            "  135528167418448: TensorSpec(shape=(), dtype=tf.resource, name=None)\n",
            "  135528167407696: TensorSpec(shape=(), dtype=tf.resource, name=None)\n",
            "  135528167416912: TensorSpec(shape=(), dtype=tf.resource, name=None)\n",
            "  135528167423632: TensorSpec(shape=(), dtype=tf.resource, name=None)\n",
            "  135528167421136: TensorSpec(shape=(), dtype=tf.resource, name=None)\n",
            "  135528167422096: TensorSpec(shape=(), dtype=tf.resource, name=None)\n",
            "  135528167415568: TensorSpec(shape=(), dtype=tf.resource, name=None)\n",
            "  135528167418064: TensorSpec(shape=(), dtype=tf.resource, name=None)\n",
            "  135532597448144: TensorSpec(shape=(), dtype=tf.resource, name=None)\n",
            "  135532597451792: TensorSpec(shape=(), dtype=tf.resource, name=None)\n",
            "  135528167409040: TensorSpec(shape=(), dtype=tf.resource, name=None)\n",
            "  135528167419408: TensorSpec(shape=(), dtype=tf.resource, name=None)\n",
            "  135532597446608: TensorSpec(shape=(), dtype=tf.resource, name=None)\n",
            "  135529043162128: TensorSpec(shape=(), dtype=tf.resource, name=None)\n",
            "  135529043161744: TensorSpec(shape=(), dtype=tf.resource, name=None)\n",
            "  135532597445456: TensorSpec(shape=(), dtype=tf.resource, name=None)\n",
            "  135529043162320: TensorSpec(shape=(), dtype=tf.resource, name=None)\n",
            "  135529043162896: TensorSpec(shape=(), dtype=tf.resource, name=None)\n",
            "  135529043162512: TensorSpec(shape=(), dtype=tf.resource, name=None)\n",
            "  135528165802640: TensorSpec(shape=(), dtype=tf.resource, name=None)\n",
            "  135529043161360: TensorSpec(shape=(), dtype=tf.resource, name=None)\n",
            "  135529043157712: TensorSpec(shape=(), dtype=tf.resource, name=None)\n",
            "  135528165803792: TensorSpec(shape=(), dtype=tf.resource, name=None)\n",
            "  135528165804176: TensorSpec(shape=(), dtype=tf.resource, name=None)\n",
            "  135528165804560: TensorSpec(shape=(), dtype=tf.resource, name=None)\n",
            "  135528165804368: TensorSpec(shape=(), dtype=tf.resource, name=None)\n",
            "  135528165803024: TensorSpec(shape=(), dtype=tf.resource, name=None)\n",
            "  135528165805712: TensorSpec(shape=(), dtype=tf.resource, name=None)\n",
            "  135528165806096: TensorSpec(shape=(), dtype=tf.resource, name=None)\n",
            "  135528165806480: TensorSpec(shape=(), dtype=tf.resource, name=None)\n",
            "  135528165806288: TensorSpec(shape=(), dtype=tf.resource, name=None)\n",
            "  135528165802256: TensorSpec(shape=(), dtype=tf.resource, name=None)\n",
            "  135528165807632: TensorSpec(shape=(), dtype=tf.resource, name=None)\n",
            "  135528165808016: TensorSpec(shape=(), dtype=tf.resource, name=None)\n",
            "  135528165808400: TensorSpec(shape=(), dtype=tf.resource, name=None)\n",
            "  135528165808208: TensorSpec(shape=(), dtype=tf.resource, name=None)\n",
            "  135528165803408: TensorSpec(shape=(), dtype=tf.resource, name=None)\n",
            "  135528165809552: TensorSpec(shape=(), dtype=tf.resource, name=None)\n",
            "  135528165809936: TensorSpec(shape=(), dtype=tf.resource, name=None)\n",
            "  135528165810320: TensorSpec(shape=(), dtype=tf.resource, name=None)\n",
            "  135528165810128: TensorSpec(shape=(), dtype=tf.resource, name=None)\n",
            "  135528165805328: TensorSpec(shape=(), dtype=tf.resource, name=None)\n",
            "  135528165811472: TensorSpec(shape=(), dtype=tf.resource, name=None)\n",
            "  135528165811856: TensorSpec(shape=(), dtype=tf.resource, name=None)\n",
            "  135528165812240: TensorSpec(shape=(), dtype=tf.resource, name=None)\n",
            "  135528165812048: TensorSpec(shape=(), dtype=tf.resource, name=None)\n",
            "  135528165807248: TensorSpec(shape=(), dtype=tf.resource, name=None)\n",
            "  135528165813392: TensorSpec(shape=(), dtype=tf.resource, name=None)\n",
            "  135528165813776: TensorSpec(shape=(), dtype=tf.resource, name=None)\n",
            "  135528165814160: TensorSpec(shape=(), dtype=tf.resource, name=None)\n",
            "  135528165813968: TensorSpec(shape=(), dtype=tf.resource, name=None)\n",
            "  135528165809168: TensorSpec(shape=(), dtype=tf.resource, name=None)\n",
            "  135528165815312: TensorSpec(shape=(), dtype=tf.resource, name=None)\n",
            "  135528165815696: TensorSpec(shape=(), dtype=tf.resource, name=None)\n",
            "  135528165816080: TensorSpec(shape=(), dtype=tf.resource, name=None)\n",
            "  135528165815888: TensorSpec(shape=(), dtype=tf.resource, name=None)\n",
            "  135528165811088: TensorSpec(shape=(), dtype=tf.resource, name=None)\n",
            "  135528165817232: TensorSpec(shape=(), dtype=tf.resource, name=None)\n",
            "  135528165816848: TensorSpec(shape=(), dtype=tf.resource, name=None)\n",
            "  135528165814928: TensorSpec(shape=(), dtype=tf.resource, name=None)\n",
            "  135528165817808: TensorSpec(shape=(), dtype=tf.resource, name=None)\n",
            "  135528165813008: TensorSpec(shape=(), dtype=tf.resource, name=None)\n",
            "  135528165816464: TensorSpec(shape=(), dtype=tf.resource, name=None)\n",
            "  135527764706512: TensorSpec(shape=(), dtype=tf.resource, name=None)\n",
            "  135527764705552: TensorSpec(shape=(), dtype=tf.resource, name=None)\n",
            "  135527764706320: TensorSpec(shape=(), dtype=tf.resource, name=None)\n",
            "  135527764705360: TensorSpec(shape=(), dtype=tf.resource, name=None)\n",
            "  135527764708048: TensorSpec(shape=(), dtype=tf.resource, name=None)\n",
            "  135527764708432: TensorSpec(shape=(), dtype=tf.resource, name=None)\n",
            "  135527764708816: TensorSpec(shape=(), dtype=tf.resource, name=None)\n",
            "  135527764708624: TensorSpec(shape=(), dtype=tf.resource, name=None)\n",
            "  135527764705744: TensorSpec(shape=(), dtype=tf.resource, name=None)\n",
            "  135527764709968: TensorSpec(shape=(), dtype=tf.resource, name=None)\n",
            "  135527764707664: TensorSpec(shape=(), dtype=tf.resource, name=None)\n",
            "  135527764711504: TensorSpec(shape=(), dtype=tf.resource, name=None)\n",
            "  135527764706128: TensorSpec(shape=(), dtype=tf.resource, name=None)\n",
            "  135527764711312: TensorSpec(shape=(), dtype=tf.resource, name=None)\n",
            "  135527764712656: TensorSpec(shape=(), dtype=tf.resource, name=None)\n",
            "  135527764713424: TensorSpec(shape=(), dtype=tf.resource, name=None)\n",
            "  135527764706896: TensorSpec(shape=(), dtype=tf.resource, name=None)\n",
            "  135527764713232: TensorSpec(shape=(), dtype=tf.resource, name=None)\n",
            "  135527764710928: TensorSpec(shape=(), dtype=tf.resource, name=None)\n",
            "  135527764713616: TensorSpec(shape=(), dtype=tf.resource, name=None)\n",
            "  135527764714384: TensorSpec(shape=(), dtype=tf.resource, name=None)\n",
            "  135527764714768: TensorSpec(shape=(), dtype=tf.resource, name=None)\n",
            "  135527764714576: TensorSpec(shape=(), dtype=tf.resource, name=None)\n",
            "  135527764709584: TensorSpec(shape=(), dtype=tf.resource, name=None)\n",
            "  135527764715920: TensorSpec(shape=(), dtype=tf.resource, name=None)\n",
            "  135527764716304: TensorSpec(shape=(), dtype=tf.resource, name=None)\n",
            "  135527764716688: TensorSpec(shape=(), dtype=tf.resource, name=None)\n",
            "  135527764716496: TensorSpec(shape=(), dtype=tf.resource, name=None)\n",
            "  135527764713040: TensorSpec(shape=(), dtype=tf.resource, name=None)\n",
            "  135527764717840: TensorSpec(shape=(), dtype=tf.resource, name=None)\n",
            "  135527764718224: TensorSpec(shape=(), dtype=tf.resource, name=None)\n",
            "  135527764718608: TensorSpec(shape=(), dtype=tf.resource, name=None)\n",
            "  135527764718416: TensorSpec(shape=(), dtype=tf.resource, name=None)\n",
            "  135527764714192: TensorSpec(shape=(), dtype=tf.resource, name=None)\n",
            "  135527764719760: TensorSpec(shape=(), dtype=tf.resource, name=None)\n",
            "  135527764720144: TensorSpec(shape=(), dtype=tf.resource, name=None)\n",
            "  135527764720528: TensorSpec(shape=(), dtype=tf.resource, name=None)\n",
            "  135527764720336: TensorSpec(shape=(), dtype=tf.resource, name=None)\n",
            "  135527764715536: TensorSpec(shape=(), dtype=tf.resource, name=None)\n",
            "  135527764717456: TensorSpec(shape=(), dtype=tf.resource, name=None)\n",
            "  135527765328336: TensorSpec(shape=(), dtype=tf.resource, name=None)\n",
            "  135527765328912: TensorSpec(shape=(), dtype=tf.resource, name=None)\n",
            "  135527764719376: TensorSpec(shape=(), dtype=tf.resource, name=None)\n",
            "  135527764718992: TensorSpec(shape=(), dtype=tf.resource, name=None)\n",
            "  135527765329872: TensorSpec(shape=(), dtype=tf.resource, name=None)\n",
            "  135527765330256: TensorSpec(shape=(), dtype=tf.resource, name=None)\n",
            "  135527765330640: TensorSpec(shape=(), dtype=tf.resource, name=None)\n",
            "  135527765330448: TensorSpec(shape=(), dtype=tf.resource, name=None)\n",
            "  135527765329104: TensorSpec(shape=(), dtype=tf.resource, name=None)\n",
            "  135527765331792: TensorSpec(shape=(), dtype=tf.resource, name=None)\n",
            "  135527765332176: TensorSpec(shape=(), dtype=tf.resource, name=None)\n",
            "  135527765332560: TensorSpec(shape=(), dtype=tf.resource, name=None)\n",
            "  135527765332368: TensorSpec(shape=(), dtype=tf.resource, name=None)\n",
            "  135527765328144: TensorSpec(shape=(), dtype=tf.resource, name=None)\n",
            "  135527765333712: TensorSpec(shape=(), dtype=tf.resource, name=None)\n",
            "  135527765334096: TensorSpec(shape=(), dtype=tf.resource, name=None)\n",
            "  135527765334480: TensorSpec(shape=(), dtype=tf.resource, name=None)\n",
            "  135527765334288: TensorSpec(shape=(), dtype=tf.resource, name=None)\n",
            "  135527765329488: TensorSpec(shape=(), dtype=tf.resource, name=None)\n",
            "  135527765335632: TensorSpec(shape=(), dtype=tf.resource, name=None)\n",
            "  135527765336016: TensorSpec(shape=(), dtype=tf.resource, name=None)\n",
            "  135527765336400: TensorSpec(shape=(), dtype=tf.resource, name=None)\n",
            "  135527765336208: TensorSpec(shape=(), dtype=tf.resource, name=None)\n",
            "  135527765331408: TensorSpec(shape=(), dtype=tf.resource, name=None)\n",
            "  135527765337552: TensorSpec(shape=(), dtype=tf.resource, name=None)\n",
            "  135527765337936: TensorSpec(shape=(), dtype=tf.resource, name=None)\n",
            "  135527765338320: TensorSpec(shape=(), dtype=tf.resource, name=None)\n",
            "  135527765338128: TensorSpec(shape=(), dtype=tf.resource, name=None)\n",
            "  135527765333328: TensorSpec(shape=(), dtype=tf.resource, name=None)\n",
            "  135527765339472: TensorSpec(shape=(), dtype=tf.resource, name=None)\n",
            "  135527765339856: TensorSpec(shape=(), dtype=tf.resource, name=None)\n",
            "  135527765340240: TensorSpec(shape=(), dtype=tf.resource, name=None)\n",
            "  135527765340048: TensorSpec(shape=(), dtype=tf.resource, name=None)\n",
            "  135527765335248: TensorSpec(shape=(), dtype=tf.resource, name=None)\n",
            "  135527765341392: TensorSpec(shape=(), dtype=tf.resource, name=None)\n",
            "  135527765341776: TensorSpec(shape=(), dtype=tf.resource, name=None)\n",
            "  135527765342160: TensorSpec(shape=(), dtype=tf.resource, name=None)\n",
            "  135527765341968: TensorSpec(shape=(), dtype=tf.resource, name=None)\n",
            "  135527765337168: TensorSpec(shape=(), dtype=tf.resource, name=None)\n",
            "  135527765343312: TensorSpec(shape=(), dtype=tf.resource, name=None)\n",
            "  135527765342928: TensorSpec(shape=(), dtype=tf.resource, name=None)\n",
            "  135527765342544: TensorSpec(shape=(), dtype=tf.resource, name=None)\n",
            "  135527765343888: TensorSpec(shape=(), dtype=tf.resource, name=None)\n",
            "  135527765339088: TensorSpec(shape=(), dtype=tf.resource, name=None)\n",
            "  135527765341008: TensorSpec(shape=(), dtype=tf.resource, name=None)\n",
            "  135527765050768: TensorSpec(shape=(), dtype=tf.resource, name=None)\n",
            "  135527765051152: TensorSpec(shape=(), dtype=tf.resource, name=None)\n",
            "  135527765050960: TensorSpec(shape=(), dtype=tf.resource, name=None)\n",
            "  135527765049616: TensorSpec(shape=(), dtype=tf.resource, name=None)\n",
            "  135527765052304: TensorSpec(shape=(), dtype=tf.resource, name=None)\n",
            "  135527765052880: TensorSpec(shape=(), dtype=tf.resource, name=None)\n",
            "  135527765050384: TensorSpec(shape=(), dtype=tf.resource, name=None)\n",
            "  135527765054032: TensorSpec(shape=(), dtype=tf.resource, name=None)\n"
          ]
        },
        {
          "output_type": "stream",
          "name": "stderr",
          "text": [
            "/usr/local/lib/python3.11/dist-packages/tensorflow/lite/python/convert.py:854: UserWarning: Statistics for quantized inputs were expected, but not specified; continuing anyway.\n",
            "  warnings.warn(\n"
          ]
        }
      ]
    },
    {
      "cell_type": "code",
      "source": [
        "with open(\"mobilenet_keras_int8.tflite\", \"wb\") as f:\n",
        "    f.write(tflite_model)"
      ],
      "metadata": {
        "id": "E_fF-R8_ZFfZ"
      },
      "execution_count": null,
      "outputs": []
    },
    {
      "cell_type": "markdown",
      "source": [
        "## TinyCNN Keras"
      ],
      "metadata": {
        "id": "595O-_8OakIG"
      }
    },
    {
      "cell_type": "code",
      "source": [
        "model = tf.keras.models.load_model(\"tinycnn_model.keras\")"
      ],
      "metadata": {
        "id": "51WT6eJaZMDT"
      },
      "execution_count": null,
      "outputs": []
    },
    {
      "cell_type": "code",
      "source": [
        "converter = tf.lite.TFLiteConverter.from_keras_model(model)\n",
        "converter.optimizations = [tf.lite.Optimize.DEFAULT]\n",
        "converter.representative_dataset = representative_data_gen\n",
        "converter.target_spec.supported_ops = [tf.lite.OpsSet.TFLITE_BUILTINS_INT8]"
      ],
      "metadata": {
        "id": "97wcBsUkZP6B"
      },
      "execution_count": null,
      "outputs": []
    },
    {
      "cell_type": "code",
      "source": [
        "converter.inference_input_type = tf.int8\n",
        "converter.inference_output_type = tf.int8"
      ],
      "metadata": {
        "id": "26_jASimZSv7"
      },
      "execution_count": null,
      "outputs": []
    },
    {
      "cell_type": "code",
      "source": [
        "tflite_model = converter.convert()"
      ],
      "metadata": {
        "colab": {
          "base_uri": "https://localhost:8080/"
        },
        "id": "jUY8KdABZVvM",
        "outputId": "e0c84724-fb9b-400a-b957-b4a8e7985727",
        "collapsed": true
      },
      "execution_count": null,
      "outputs": [
        {
          "output_type": "stream",
          "name": "stdout",
          "text": [
            "Saved artifact at '/tmp/tmpam8usg7w'. The following endpoints are available:\n",
            "\n",
            "* Endpoint 'serve'\n",
            "  args_0 (POSITIONAL_ONLY): TensorSpec(shape=(None, 224, 224, 3), dtype=tf.float32, name='input_layer_8')\n",
            "Output Type:\n",
            "  TensorSpec(shape=(None, 5), dtype=tf.float32, name=None)\n",
            "Captures:\n",
            "  135526155167184: TensorSpec(shape=(), dtype=tf.resource, name=None)\n",
            "  135526155165840: TensorSpec(shape=(), dtype=tf.resource, name=None)\n",
            "  135526155166032: TensorSpec(shape=(), dtype=tf.resource, name=None)\n",
            "  135526155164112: TensorSpec(shape=(), dtype=tf.resource, name=None)\n",
            "  135526155164880: TensorSpec(shape=(), dtype=tf.resource, name=None)\n",
            "  135526155163152: TensorSpec(shape=(), dtype=tf.resource, name=None)\n",
            "  135526155163728: TensorSpec(shape=(), dtype=tf.resource, name=None)\n",
            "  135526155165072: TensorSpec(shape=(), dtype=tf.resource, name=None)\n"
          ]
        },
        {
          "output_type": "stream",
          "name": "stderr",
          "text": [
            "/usr/local/lib/python3.11/dist-packages/tensorflow/lite/python/convert.py:854: UserWarning: Statistics for quantized inputs were expected, but not specified; continuing anyway.\n",
            "  warnings.warn(\n"
          ]
        }
      ]
    },
    {
      "cell_type": "code",
      "source": [
        "with open(\"tinycnn_keras_int8.tflite\", \"wb\") as f:\n",
        "    f.write(tflite_model)"
      ],
      "metadata": {
        "id": "wbDpH8jhZYCW"
      },
      "execution_count": null,
      "outputs": []
    },
    {
      "cell_type": "markdown",
      "source": [
        "## ResNet8"
      ],
      "metadata": {
        "id": "IN6gzYLLa9c0"
      }
    },
    {
      "cell_type": "code",
      "source": [
        "converter = tf.lite.TFLiteConverter.from_saved_model(\"resnet8_saved_model\")\n",
        "converter.optimizations = [tf.lite.Optimize.DEFAULT]\n",
        "converter.representative_dataset = representative_data_gen"
      ],
      "metadata": {
        "id": "9pMoQNGVZjR-"
      },
      "execution_count": null,
      "outputs": []
    },
    {
      "cell_type": "code",
      "source": [
        "converter.target_spec.supported_ops = [tf.lite.OpsSet.TFLITE_BUILTINS_INT8]\n",
        "converter.inference_input_type = tf.uint8\n",
        "converter.inference_output_type = tf.uint8"
      ],
      "metadata": {
        "id": "fX_63TB7ZTTJ"
      },
      "execution_count": null,
      "outputs": []
    },
    {
      "cell_type": "code",
      "source": [
        "tflite_model = converter.convert()"
      ],
      "metadata": {
        "id": "oh9mVudDZfB6"
      },
      "execution_count": null,
      "outputs": []
    },
    {
      "cell_type": "code",
      "source": [
        "with open(\"resnet8_int8_quant.tflite\", \"wb\") as f:\n",
        "    f.write(tflite_model)"
      ],
      "metadata": {
        "id": "SwMr6FqMZt1_"
      },
      "execution_count": null,
      "outputs": []
    },
    {
      "cell_type": "markdown",
      "source": [
        "## ResNet8 Keras"
      ],
      "metadata": {
        "id": "uG5lc8glbCwS"
      }
    },
    {
      "cell_type": "code",
      "source": [
        "model = tf.keras.models.load_model(\"resnet8_model.keras\")"
      ],
      "metadata": {
        "id": "GauDErhZZzpU"
      },
      "execution_count": null,
      "outputs": []
    },
    {
      "cell_type": "code",
      "source": [
        "converter = tf.lite.TFLiteConverter.from_keras_model(model)\n",
        "converter.optimizations = [tf.lite.Optimize.DEFAULT]\n",
        "converter.representative_dataset = representative_data_gen\n",
        "converter.target_spec.supported_ops = [tf.lite.OpsSet.TFLITE_BUILTINS_INT8]"
      ],
      "metadata": {
        "id": "oqWlVJOebIKt"
      },
      "execution_count": null,
      "outputs": []
    },
    {
      "cell_type": "code",
      "source": [
        "converter.inference_input_type = tf.int8\n",
        "converter.inference_output_type = tf.int8"
      ],
      "metadata": {
        "id": "QDuD9cpRbKXu"
      },
      "execution_count": null,
      "outputs": []
    },
    {
      "cell_type": "code",
      "source": [
        "tflite_model = converter.convert()"
      ],
      "metadata": {
        "collapsed": true,
        "colab": {
          "base_uri": "https://localhost:8080/"
        },
        "id": "wlDukWn8bMVv",
        "outputId": "99277369-09b8-4e71-96d6-d5022039979a"
      },
      "execution_count": null,
      "outputs": [
        {
          "output_type": "stream",
          "name": "stdout",
          "text": [
            "Saved artifact at '/tmp/tmp5xqst6ib'. The following endpoints are available:\n",
            "\n",
            "* Endpoint 'serve'\n",
            "  args_0 (POSITIONAL_ONLY): TensorSpec(shape=(None, 128, 128, 3), dtype=tf.float32, name='input_layer')\n",
            "Output Type:\n",
            "  TensorSpec(shape=(None, 5), dtype=tf.float32, name=None)\n",
            "Captures:\n",
            "  138922799035216: TensorSpec(shape=(), dtype=tf.resource, name=None)\n",
            "  138922799035600: TensorSpec(shape=(), dtype=tf.resource, name=None)\n",
            "  138922799034832: TensorSpec(shape=(), dtype=tf.resource, name=None)\n",
            "  138921128074640: TensorSpec(shape=(), dtype=tf.resource, name=None)\n",
            "  138922799034064: TensorSpec(shape=(), dtype=tf.resource, name=None)\n",
            "  138922799034448: TensorSpec(shape=(), dtype=tf.resource, name=None)\n",
            "  138921128082128: TensorSpec(shape=(), dtype=tf.resource, name=None)\n",
            "  138921128073296: TensorSpec(shape=(), dtype=tf.resource, name=None)\n",
            "  138921128073680: TensorSpec(shape=(), dtype=tf.resource, name=None)\n",
            "  138921128076368: TensorSpec(shape=(), dtype=tf.resource, name=None)\n",
            "  138921128081552: TensorSpec(shape=(), dtype=tf.resource, name=None)\n",
            "  138921128070032: TensorSpec(shape=(), dtype=tf.resource, name=None)\n",
            "  138921128081744: TensorSpec(shape=(), dtype=tf.resource, name=None)\n",
            "  138921128071376: TensorSpec(shape=(), dtype=tf.resource, name=None)\n",
            "  138921128070992: TensorSpec(shape=(), dtype=tf.resource, name=None)\n",
            "  138921128070416: TensorSpec(shape=(), dtype=tf.resource, name=None)\n",
            "  138921128076176: TensorSpec(shape=(), dtype=tf.resource, name=None)\n",
            "  138921128068496: TensorSpec(shape=(), dtype=tf.resource, name=None)\n",
            "  138921128071184: TensorSpec(shape=(), dtype=tf.resource, name=None)\n",
            "  138921128075216: TensorSpec(shape=(), dtype=tf.resource, name=None)\n",
            "  138921128077328: TensorSpec(shape=(), dtype=tf.resource, name=None)\n",
            "  138921128069840: TensorSpec(shape=(), dtype=tf.resource, name=None)\n",
            "  138921128072912: TensorSpec(shape=(), dtype=tf.resource, name=None)\n",
            "  138921128075408: TensorSpec(shape=(), dtype=tf.resource, name=None)\n",
            "  138921128078864: TensorSpec(shape=(), dtype=tf.resource, name=None)\n",
            "  138921128079248: TensorSpec(shape=(), dtype=tf.resource, name=None)\n",
            "  138921128067152: TensorSpec(shape=(), dtype=tf.resource, name=None)\n",
            "  138921128081168: TensorSpec(shape=(), dtype=tf.resource, name=None)\n",
            "  138921128069456: TensorSpec(shape=(), dtype=tf.resource, name=None)\n",
            "  138921128079440: TensorSpec(shape=(), dtype=tf.resource, name=None)\n",
            "  138921128077520: TensorSpec(shape=(), dtype=tf.resource, name=None)\n",
            "  138921128076560: TensorSpec(shape=(), dtype=tf.resource, name=None)\n",
            "  138921128076944: TensorSpec(shape=(), dtype=tf.resource, name=None)\n",
            "  138921128075792: TensorSpec(shape=(), dtype=tf.resource, name=None)\n",
            "  138921128073104: TensorSpec(shape=(), dtype=tf.resource, name=None)\n",
            "  138921128067728: TensorSpec(shape=(), dtype=tf.resource, name=None)\n",
            "  138919512507792: TensorSpec(shape=(), dtype=tf.resource, name=None)\n",
            "  138919512509136: TensorSpec(shape=(), dtype=tf.resource, name=None)\n",
            "  138919512506832: TensorSpec(shape=(), dtype=tf.resource, name=None)\n",
            "  138919512508368: TensorSpec(shape=(), dtype=tf.resource, name=None)\n",
            "  138919512509328: TensorSpec(shape=(), dtype=tf.resource, name=None)\n",
            "  138919512508560: TensorSpec(shape=(), dtype=tf.resource, name=None)\n",
            "  138919512507408: TensorSpec(shape=(), dtype=tf.resource, name=None)\n",
            "  138919512508944: TensorSpec(shape=(), dtype=tf.resource, name=None)\n",
            "  138919512510480: TensorSpec(shape=(), dtype=tf.resource, name=None)\n",
            "  138919512510864: TensorSpec(shape=(), dtype=tf.resource, name=None)\n",
            "  138919512509712: TensorSpec(shape=(), dtype=tf.resource, name=None)\n",
            "  138919512510096: TensorSpec(shape=(), dtype=tf.resource, name=None)\n",
            "  138919512512400: TensorSpec(shape=(), dtype=tf.resource, name=None)\n",
            "  138919512512976: TensorSpec(shape=(), dtype=tf.resource, name=None)\n",
            "  138919512513168: TensorSpec(shape=(), dtype=tf.resource, name=None)\n",
            "  138919512512016: TensorSpec(shape=(), dtype=tf.resource, name=None)\n",
            "  138919512507600: TensorSpec(shape=(), dtype=tf.resource, name=None)\n",
            "  138919512512784: TensorSpec(shape=(), dtype=tf.resource, name=None)\n",
            "  138919512514320: TensorSpec(shape=(), dtype=tf.resource, name=None)\n",
            "  138919512516048: TensorSpec(shape=(), dtype=tf.resource, name=None)\n",
            "  138919512514704: TensorSpec(shape=(), dtype=tf.resource, name=None)\n",
            "  138919512515280: TensorSpec(shape=(), dtype=tf.resource, name=None)\n",
            "  138919512516240: TensorSpec(shape=(), dtype=tf.resource, name=None)\n",
            "  138919512515472: TensorSpec(shape=(), dtype=tf.resource, name=None)\n",
            "  138919512511248: TensorSpec(shape=(), dtype=tf.resource, name=None)\n",
            "  138919512515856: TensorSpec(shape=(), dtype=tf.resource, name=None)\n",
            "  138919512517392: TensorSpec(shape=(), dtype=tf.resource, name=None)\n",
            "  138919512517776: TensorSpec(shape=(), dtype=tf.resource, name=None)\n",
            "  138919512516624: TensorSpec(shape=(), dtype=tf.resource, name=None)\n",
            "  138919512517008: TensorSpec(shape=(), dtype=tf.resource, name=None)\n",
            "  138919512519312: TensorSpec(shape=(), dtype=tf.resource, name=None)\n",
            "  138919512519888: TensorSpec(shape=(), dtype=tf.resource, name=None)\n",
            "  138919512518160: TensorSpec(shape=(), dtype=tf.resource, name=None)\n",
            "  138919512521232: TensorSpec(shape=(), dtype=tf.resource, name=None)\n"
          ]
        },
        {
          "output_type": "stream",
          "name": "stderr",
          "text": [
            "/usr/local/lib/python3.11/dist-packages/tensorflow/lite/python/convert.py:854: UserWarning: Statistics for quantized inputs were expected, but not specified; continuing anyway.\n",
            "  warnings.warn(\n"
          ]
        }
      ]
    },
    {
      "cell_type": "code",
      "source": [
        "with open(\"resnet8_keras_int8.tflite\", \"wb\") as f:\n",
        "    f.write(tflite_model)"
      ],
      "metadata": {
        "id": "YKXi6m74bOuw"
      },
      "execution_count": null,
      "outputs": []
    },
    {
      "cell_type": "code",
      "source": [],
      "metadata": {
        "id": "1H0KdOy_bTHG"
      },
      "execution_count": null,
      "outputs": []
    }
  ],
  "metadata": {
    "colab": {
      "provenance": [],
      "gpuType": "V28",
      "machine_shape": "hm"
    },
    "kernelspec": {
      "display_name": "Python 3",
      "name": "python3"
    },
    "language_info": {
      "name": "python"
    },
    "accelerator": "TPU"
  },
  "nbformat": 4,
  "nbformat_minor": 0
}