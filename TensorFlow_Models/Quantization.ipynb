{
  "nbformat": 4,
  "nbformat_minor": 0,
  "metadata": {
    "colab": {
      "provenance": []
    },
    "kernelspec": {
      "name": "python3",
      "display_name": "Python 3"
    },
    "language_info": {
      "name": "python"
    }
  },
  "cells": [
    {
      "cell_type": "markdown",
      "source": [
        "# Batch Initiation"
      ],
      "metadata": {
        "id": "mWdg4J088yzq"
      }
    },
    {
      "cell_type": "code",
      "source": [
        "def representative_data_gen():\n",
        "    for _ in range(100):\n",
        "        images, _ = next(train_generator)  # Use next() to get a batch\n",
        "        yield [tf.cast(images, tf.float32)]"
      ],
      "metadata": {
        "id": "E5EtF8Kk8-Ir"
      },
      "execution_count": null,
      "outputs": []
    },
    {
      "cell_type": "markdown",
      "source": [
        "## For TensorFlow model files"
      ],
      "metadata": {
        "id": "58hdz8nz9M0s"
      }
    },
    {
      "cell_type": "code",
      "source": [
        "converter = tf.lite.TFLiteConverter.from_saved_model(\"saved_model\")\n",
        "# Replace saved_model --> mobilenet_saved_model for mobilenet\n",
        "#                     --> tinycnn_saved_model for TinyCNN\n",
        "#                     --> resnetx_saved_model for Resnetx\n",
        "converter.optimizations = [tf.lite.Optimize.DEFAULT]\n",
        "converter.representative_dataset = representative_data_gen"
      ],
      "metadata": {
        "id": "Q8m7Br7q9AID"
      },
      "execution_count": null,
      "outputs": []
    },
    {
      "cell_type": "code",
      "source": [
        "converter.target_spec.supported_ops = [tf.lite.OpsSet.TFLITE_BUILTINS_INT8]\n",
        "converter.inference_input_type = tf.uint8\n",
        "converter.inference_output_type = tf.uint8"
      ],
      "metadata": {
        "id": "VPDhGO1Y8_2s"
      },
      "execution_count": null,
      "outputs": []
    },
    {
      "cell_type": "code",
      "source": [
        "tflite_model = converter.convert()"
      ],
      "metadata": {
        "id": "8h0fS4Jz9HNz"
      },
      "execution_count": null,
      "outputs": []
    },
    {
      "cell_type": "code",
      "source": [
        "with open(\"modelname_int8_quant.tflite\", \"wb\") as f:      # Replace modelname_int8_quant.tflite with appropriate name\n",
        "    f.write(tflite_model)"
      ],
      "metadata": {
        "id": "DDNJ11f-9Joq"
      },
      "execution_count": null,
      "outputs": []
    },
    {
      "cell_type": "markdown",
      "source": [
        "## For Keras"
      ],
      "metadata": {
        "id": "JrsIA9MJ-S0N"
      }
    },
    {
      "cell_type": "code",
      "source": [
        "# Load the keras model\n",
        "model = tf.keras.models.load_model(\"name_model.keras\")  # Replace name_model.keras with model name"
      ],
      "metadata": {
        "id": "pwMlCM4y-Uof"
      },
      "execution_count": null,
      "outputs": []
    },
    {
      "cell_type": "code",
      "source": [
        "converter = tf.lite.TFLiteConverter.from_keras_model(model)\n",
        "converter.optimizations = [tf.lite.Optimize.DEFAULT]\n",
        "converter.representative_dataset = representative_data_gen\n",
        "converter.target_spec.supported_ops = [tf.lite.OpsSet.TFLITE_BUILTINS_INT8]"
      ],
      "metadata": {
        "id": "7JvCm4IW-je8"
      },
      "execution_count": null,
      "outputs": []
    },
    {
      "cell_type": "code",
      "source": [
        "converter.inference_input_type = tf.int8\n",
        "converter.inference_output_type = tf.int8"
      ],
      "metadata": {
        "id": "m1HRTStx-paJ"
      },
      "execution_count": null,
      "outputs": []
    },
    {
      "cell_type": "code",
      "source": [
        "tflite_model = converter.convert()"
      ],
      "metadata": {
        "id": "EarVyOIk-sBK"
      },
      "execution_count": null,
      "outputs": []
    },
    {
      "cell_type": "code",
      "source": [
        "with open(\"modelname_keras_int8.tflite\", \"wb\") as f:\n",
        "    f.write(tflite_model)"
      ],
      "metadata": {
        "id": "KnPEyA1b-vui"
      },
      "execution_count": null,
      "outputs": []
    }
  ]
}