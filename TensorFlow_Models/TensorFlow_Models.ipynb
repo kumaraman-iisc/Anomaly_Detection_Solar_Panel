{
  "nbformat": 4,
  "nbformat_minor": 0,
  "metadata": {
    "colab": {
      "provenance": [],
      "toc_visible": true
    },
    "kernelspec": {
      "name": "python3",
      "display_name": "Python 3"
    },
    "language_info": {
      "name": "python"
    }
  },
  "cells": [
    {
      "cell_type": "markdown",
      "source": [
        "# MobileNet V2 Pre-Trained"
      ],
      "metadata": {
        "id": "ViL5XOIR6wIz"
      }
    },
    {
      "cell_type": "code",
      "execution_count": null,
      "metadata": {
        "id": "ETYnnClU34MW"
      },
      "outputs": [],
      "source": [
        "base_model = MobileNetV2(input_shape=(128, 128, 3), include_top=False, weights='imagenet')\n",
        "base_model.trainable = False"
      ]
    },
    {
      "cell_type": "code",
      "source": [
        "model_mobile = models.Sequential([\n",
        "    base_model,\n",
        "    layers.GlobalAveragePooling2D(),\n",
        "    layers.Dense(128, activation='relu', kernel_regularizer=regularizers.l2(0.001)),\n",
        "    layers.Dropout(0.5),\n",
        "    layers.Dense(5, activation='softmax')\n",
        "])"
      ],
      "metadata": {
        "id": "zmp4h4aJ35EC"
      },
      "execution_count": null,
      "outputs": []
    },
    {
      "cell_type": "code",
      "source": [
        "model_mobile.compile(optimizer='adam', loss='sparse_categorical_crossentropy', metrics=['accuracy'])"
      ],
      "metadata": {
        "id": "nLgxu29C37uU"
      },
      "execution_count": null,
      "outputs": []
    },
    {
      "cell_type": "code",
      "source": [
        "initial_epochs = 10\n",
        "\n",
        "callbacks = [\n",
        "    EarlyStopping(patience=3, restore_best_weights=True),\n",
        "    ReduceLROnPlateau(patience=2)\n",
        "]"
      ],
      "metadata": {
        "id": "auILTmG73-JW"
      },
      "execution_count": null,
      "outputs": []
    },
    {
      "cell_type": "code",
      "source": [
        "history = model_mobile.fit(\n",
        "    train_generator,\n",
        "    validation_data=val_generator,\n",
        "    epochs=initial_epochs,\n",
        "    callbacks=callbacks\n",
        ")"
      ],
      "metadata": {
        "id": "dezzUSgQ3-qp"
      },
      "execution_count": null,
      "outputs": []
    },
    {
      "cell_type": "markdown",
      "source": [
        "## MobileNet V2 Pre-Trained - Unfreezing some layers"
      ],
      "metadata": {
        "id": "vRTv5Ogr63V3"
      }
    },
    {
      "cell_type": "code",
      "source": [
        "base_model.trainable = True\n",
        "for layer in base_model.layers[:-30]:\n",
        "    layer.trainable = False"
      ],
      "metadata": {
        "id": "7SYH7ko24CNR"
      },
      "execution_count": null,
      "outputs": []
    },
    {
      "cell_type": "code",
      "source": [
        "model_mobile_pre = models.Sequential([\n",
        "    base_model,\n",
        "    layers.GlobalAveragePooling2D(),\n",
        "    layers.Dense(128, activation='relu', kernel_regularizer=regularizers.l2(0.001)),\n",
        "    layers.Dropout(0.5),\n",
        "    layers.Dense(5, activation='softmax')\n",
        "])"
      ],
      "metadata": {
        "id": "Q3hZP7rq4Cj0"
      },
      "execution_count": null,
      "outputs": []
    },
    {
      "cell_type": "code",
      "source": [
        "model_mobile_pre.compile(optimizer='adam', loss='sparse_categorical_crossentropy', metrics=['accuracy'])"
      ],
      "metadata": {
        "id": "QGlsUP_i4NHc"
      },
      "execution_count": null,
      "outputs": []
    },
    {
      "cell_type": "code",
      "source": [
        "model_mobile_pre.compile(optimizer=tf.keras.optimizers.Adam(1e-5),\n",
        "              loss='sparse_categorical_crossentropy',\n",
        "              metrics=['accuracy'])"
      ],
      "metadata": {
        "id": "hSk5wQrJ4NgK"
      },
      "execution_count": null,
      "outputs": []
    },
    {
      "cell_type": "code",
      "source": [
        "fine_tune_epochs = 10\n",
        "history_finetune = model_mobile_pre.fit(\n",
        "    train_generator,\n",
        "    validation_data=val_generator,\n",
        "    epochs=fine_tune_epochs,\n",
        "    callbacks=callbacks\n",
        ")"
      ],
      "metadata": {
        "id": "-S7XLfnx4N_8"
      },
      "execution_count": null,
      "outputs": []
    },
    {
      "cell_type": "code",
      "source": [
        "model_mobile.export(\"mobilenet_saved_model\")"
      ],
      "metadata": {
        "id": "1Js3rIpP4OST"
      },
      "execution_count": null,
      "outputs": []
    },
    {
      "cell_type": "code",
      "source": [
        "model_mobile_pre.export(\"mobilenet_pre_saved_model\")"
      ],
      "metadata": {
        "id": "nBG6etPU4Zmr"
      },
      "execution_count": null,
      "outputs": []
    },
    {
      "cell_type": "code",
      "source": [
        "model_mobile.save(\"mobilenet_model.keras\")"
      ],
      "metadata": {
        "id": "jQ8dO1Va4aEm"
      },
      "execution_count": null,
      "outputs": []
    },
    {
      "cell_type": "code",
      "source": [
        "model_mobile_pre.save(\"mobilenet_pre_model.keras\")"
      ],
      "metadata": {
        "id": "4NILpAvc4aYI"
      },
      "execution_count": null,
      "outputs": []
    },
    {
      "cell_type": "markdown",
      "source": [
        "# TinyCNN"
      ],
      "metadata": {
        "id": "_tnC6pTc43VU"
      }
    },
    {
      "cell_type": "code",
      "source": [
        "img_size = 128\n",
        "batch_size = 32"
      ],
      "metadata": {
        "id": "_u2puwOG43zC"
      },
      "execution_count": null,
      "outputs": []
    },
    {
      "cell_type": "code",
      "source": [
        "early_stop = EarlyStopping(patience=5, restore_best_weights=True)\n",
        "reduce_lr = ReduceLROnPlateau(factor=0.2, patience=3, verbose=1)"
      ],
      "metadata": {
        "id": "ZQU6T0Qa464O"
      },
      "execution_count": null,
      "outputs": []
    },
    {
      "cell_type": "code",
      "source": [
        "model_tinycnn = models.Sequential([\n",
        "    layers.Conv2D(16, (3, 3), padding='same', activation='relu',\n",
        "                  kernel_regularizer=regularizers.l2(1e-4), input_shape=(128, 128, 3)),\n",
        "    layers.MaxPooling2D(2, 2),\n",
        "    layers.Dropout(0.25),\n",
        "\n",
        "    layers.Conv2D(32, (3, 3), padding='same', activation='relu',\n",
        "                  kernel_regularizer=regularizers.l2(1e-4)),\n",
        "    layers.MaxPooling2D(2, 2),\n",
        "    layers.Dropout(0.25),\n",
        "\n",
        "    layers.Flatten(),\n",
        "    layers.Dense(128, activation='relu',\n",
        "                 kernel_regularizer=regularizers.l2(1e-4)),\n",
        "    layers.Dropout(0.5),\n",
        "    layers.Dense(5, activation='softmax')\n",
        "])"
      ],
      "metadata": {
        "id": "l0pMAoDv5Hv1"
      },
      "execution_count": null,
      "outputs": []
    },
    {
      "cell_type": "code",
      "source": [
        "model_tinycnn.compile(\n",
        "    optimizer=tf.keras.optimizers.Adam(learning_rate=0.001),\n",
        "    loss='sparse_categorical_crossentropy',\n",
        "    metrics=['accuracy']\n",
        ")"
      ],
      "metadata": {
        "id": "QUv1p3wP5M_b"
      },
      "execution_count": null,
      "outputs": []
    },
    {
      "cell_type": "code",
      "source": [
        "early_stop = EarlyStopping(\n",
        "    patience=5,\n",
        "    restore_best_weights=True,\n",
        "    monitor='val_loss'\n",
        ")"
      ],
      "metadata": {
        "id": "IKr9Tz5z5QaK"
      },
      "execution_count": null,
      "outputs": []
    },
    {
      "cell_type": "code",
      "source": [
        "reduce_lr = ReduceLROnPlateau(\n",
        "    factor=0.2,\n",
        "    patience=3,\n",
        "    verbose=1\n",
        ")"
      ],
      "metadata": {
        "id": "E7Davtny5S55"
      },
      "execution_count": null,
      "outputs": []
    },
    {
      "cell_type": "code",
      "source": [
        "history = model_tinycnn.fit(\n",
        "    train_generator,\n",
        "    validation_data=val_generator,\n",
        "    epochs=20,\n",
        "    callbacks=[early_stop, reduce_lr]\n",
        ")"
      ],
      "metadata": {
        "id": "vatIuWqS5Zo3"
      },
      "execution_count": null,
      "outputs": []
    },
    {
      "cell_type": "code",
      "source": [
        "model_tinycnn.export(\"tinycnn_saved_model\")"
      ],
      "metadata": {
        "id": "4Y2veAjA5dIP"
      },
      "execution_count": null,
      "outputs": []
    },
    {
      "cell_type": "code",
      "source": [
        "model_tinycnn.save(\"tinycnn_model.keras\")"
      ],
      "metadata": {
        "id": "HNPoHonX5gvo"
      },
      "execution_count": null,
      "outputs": []
    },
    {
      "cell_type": "markdown",
      "source": [
        "# ResNet"
      ],
      "metadata": {
        "id": "HgCc1quL5jz_"
      }
    },
    {
      "cell_type": "markdown",
      "source": [
        "## ResNet Common block"
      ],
      "metadata": {
        "id": "NaPkPk2-7O09"
      }
    },
    {
      "cell_type": "code",
      "source": [
        "def resnet_block(inputs, filters, kernel_size=3, stride=1):\n",
        "    x = layers.Conv2D(filters, kernel_size, strides=stride, padding='same',\n",
        "                      kernel_regularizer=regularizers.l2(1e-4))(inputs)\n",
        "    x = layers.BatchNormalization()(x)\n",
        "    x = layers.ReLU()(x)\n",
        "    x = layers.Conv2D(filters, kernel_size, padding='same',\n",
        "                      kernel_regularizer=regularizers.l2(1e-4))(x)\n",
        "    x = layers.BatchNormalization()(x)\n",
        "\n",
        "    if stride != 1 or inputs.shape[-1] != filters:\n",
        "        shortcut = layers.Conv2D(filters, 1, strides=stride, padding='same')(inputs)\n",
        "        shortcut = layers.BatchNormalization()(shortcut)\n",
        "    else:\n",
        "        shortcut = inputs\n",
        "\n",
        "    x = layers.Add()([x, shortcut])\n",
        "    x = layers.ReLU()(x)\n",
        "    return x"
      ],
      "metadata": {
        "id": "BQ3bRgRm5kRV"
      },
      "execution_count": null,
      "outputs": []
    },
    {
      "cell_type": "markdown",
      "source": [
        "## ResNet8"
      ],
      "metadata": {
        "id": "-MHjtrjf7Yc1"
      }
    },
    {
      "cell_type": "code",
      "source": [
        "def build_resnet(input_shape=(128, 128, 3), num_classes=5, num_blocks=4):\n",
        "    inputs = layers.Input(shape=input_shape)\n",
        "    x = layers.Conv2D(16, 3, padding='same')(inputs)\n",
        "    x = layers.BatchNormalization()(x)\n",
        "    x = layers.ReLU()(x)\n",
        "\n",
        "    filters = 16\n",
        "    for i in range(num_blocks):\n",
        "        stride = 2 if i % 2 == 0 and i != 0 else 1\n",
        "        x = resnet_block(x, filters, stride=stride)\n",
        "        filters *= 2 if i % 2 == 0 and i != 0 else 1\n",
        "\n",
        "    x = layers.GlobalAveragePooling2D()(x)\n",
        "    x = layers.Dense(64, activation='relu')(x)\n",
        "    x = layers.Dropout(0.3)(x)\n",
        "    outputs = layers.Dense(num_classes, activation='softmax')(x)\n",
        "\n",
        "    model = models.Model(inputs, outputs)\n",
        "    return model"
      ],
      "metadata": {
        "id": "y157CWC95z3H"
      },
      "execution_count": null,
      "outputs": []
    },
    {
      "cell_type": "code",
      "source": [
        "model_resnet8 = build_resnet(num_blocks=4)"
      ],
      "metadata": {
        "id": "6hCjKZzb55OV"
      },
      "execution_count": null,
      "outputs": []
    },
    {
      "cell_type": "code",
      "source": [
        "model_resnet8.compile(optimizer='adam',\n",
        "                      loss='sparse_categorical_crossentropy',\n",
        "                      metrics=['accuracy'])"
      ],
      "metadata": {
        "id": "L1aLUD2w58im"
      },
      "execution_count": null,
      "outputs": []
    },
    {
      "cell_type": "code",
      "source": [
        "history = model_resnet8.fit(\n",
        "    train_generator,\n",
        "    validation_data=val_generator,\n",
        "    epochs=20,\n",
        "    callbacks=[early_stop, reduce_lr]\n",
        ")"
      ],
      "metadata": {
        "id": "z7JPRTIp5-nV"
      },
      "execution_count": null,
      "outputs": []
    },
    {
      "cell_type": "code",
      "source": [
        "model_resnet8.save(\"resnet8_model.keras\")"
      ],
      "metadata": {
        "id": "FObboZ476HvN"
      },
      "execution_count": null,
      "outputs": []
    },
    {
      "cell_type": "code",
      "source": [
        "model_resnet8.export(\"resnet8_saved_model\")"
      ],
      "metadata": {
        "id": "oh37GjCb6Kmd"
      },
      "execution_count": null,
      "outputs": []
    },
    {
      "cell_type": "markdown",
      "source": [
        "## ResNet10"
      ],
      "metadata": {
        "id": "qy_ch1uh6OZF"
      }
    },
    {
      "cell_type": "code",
      "source": [
        "model_resnet10 = build_resnet(num_blocks=5)"
      ],
      "metadata": {
        "id": "Sa7tjqe56Ox8"
      },
      "execution_count": null,
      "outputs": []
    },
    {
      "cell_type": "code",
      "source": [
        "model_resnet10.compile(optimizer='adam',\n",
        "                      loss='sparse_categorical_crossentropy',\n",
        "                      metrics=['accuracy'])"
      ],
      "metadata": {
        "id": "E7jbfKvK6eiK"
      },
      "execution_count": null,
      "outputs": []
    },
    {
      "cell_type": "code",
      "source": [
        "history = model_resnet8.fit(\n",
        "    train_generator,\n",
        "    validation_data=val_generator,\n",
        "    epochs=20,\n",
        "    callbacks=[early_stop, reduce_lr]\n",
        ")"
      ],
      "metadata": {
        "id": "ximPs8-l6goN"
      },
      "execution_count": null,
      "outputs": []
    },
    {
      "cell_type": "code",
      "source": [
        "model_resnet10.save(\"resnet10_model.keras\")"
      ],
      "metadata": {
        "id": "rYzXJyD_6knO"
      },
      "execution_count": null,
      "outputs": []
    },
    {
      "cell_type": "code",
      "source": [
        "model_resnet10.export(\"resnet10_saved_model\")"
      ],
      "metadata": {
        "id": "dAUIhWvc6mqy"
      },
      "execution_count": null,
      "outputs": []
    }
  ]
}